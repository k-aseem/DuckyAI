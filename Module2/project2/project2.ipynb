{
 "cells": [
  {
   "cell_type": "code",
   "source": [
    "!pip3 install -r requirements.txt"
   ],
   "metadata": {
    "collapsed": false,
    "ExecuteTime": {
     "end_time": "2024-09-09T01:45:25.055371Z",
     "start_time": "2024-09-09T01:45:24.236190Z"
    }
   },
   "id": "34bb7c65ab7a5a10",
   "outputs": [
    {
     "name": "stdout",
     "output_type": "stream",
     "text": [
      "Requirement already satisfied: openai==1.42.0 in ./venv/lib/python3.12/site-packages (from -r requirements.txt (line 1)) (1.42.0)\r\n",
      "Requirement already satisfied: pandas==2.2.2 in ./venv/lib/python3.12/site-packages (from -r requirements.txt (line 2)) (2.2.2)\r\n",
      "Requirement already satisfied: scikit-learn==1.5.1 in ./venv/lib/python3.12/site-packages (from -r requirements.txt (line 3)) (1.5.1)\r\n",
      "Requirement already satisfied: matplotlib==3.9.2 in ./venv/lib/python3.12/site-packages (from -r requirements.txt (line 4)) (3.9.2)\r\n",
      "Requirement already satisfied: pyarrow==17.0.0 in ./venv/lib/python3.12/site-packages (from -r requirements.txt (line 5)) (17.0.0)\r\n",
      "Requirement already satisfied: jupyter==1.1.1 in ./venv/lib/python3.12/site-packages (from -r requirements.txt (line 6)) (1.1.1)\r\n",
      "Requirement already satisfied: anyio<5,>=3.5.0 in ./venv/lib/python3.12/site-packages (from openai==1.42.0->-r requirements.txt (line 1)) (4.4.0)\r\n",
      "Requirement already satisfied: distro<2,>=1.7.0 in ./venv/lib/python3.12/site-packages (from openai==1.42.0->-r requirements.txt (line 1)) (1.9.0)\r\n",
      "Requirement already satisfied: httpx<1,>=0.23.0 in ./venv/lib/python3.12/site-packages (from openai==1.42.0->-r requirements.txt (line 1)) (0.27.2)\r\n",
      "Requirement already satisfied: jiter<1,>=0.4.0 in ./venv/lib/python3.12/site-packages (from openai==1.42.0->-r requirements.txt (line 1)) (0.5.0)\r\n",
      "Requirement already satisfied: pydantic<3,>=1.9.0 in ./venv/lib/python3.12/site-packages (from openai==1.42.0->-r requirements.txt (line 1)) (2.9.0)\r\n",
      "Requirement already satisfied: sniffio in ./venv/lib/python3.12/site-packages (from openai==1.42.0->-r requirements.txt (line 1)) (1.3.1)\r\n",
      "Requirement already satisfied: tqdm>4 in ./venv/lib/python3.12/site-packages (from openai==1.42.0->-r requirements.txt (line 1)) (4.66.5)\r\n",
      "Requirement already satisfied: typing-extensions<5,>=4.11 in ./venv/lib/python3.12/site-packages (from openai==1.42.0->-r requirements.txt (line 1)) (4.12.2)\r\n",
      "Requirement already satisfied: numpy>=1.26.0 in ./venv/lib/python3.12/site-packages (from pandas==2.2.2->-r requirements.txt (line 2)) (2.1.1)\r\n",
      "Requirement already satisfied: python-dateutil>=2.8.2 in ./venv/lib/python3.12/site-packages (from pandas==2.2.2->-r requirements.txt (line 2)) (2.9.0.post0)\r\n",
      "Requirement already satisfied: pytz>=2020.1 in ./venv/lib/python3.12/site-packages (from pandas==2.2.2->-r requirements.txt (line 2)) (2024.1)\r\n",
      "Requirement already satisfied: tzdata>=2022.7 in ./venv/lib/python3.12/site-packages (from pandas==2.2.2->-r requirements.txt (line 2)) (2024.1)\r\n",
      "Requirement already satisfied: scipy>=1.6.0 in ./venv/lib/python3.12/site-packages (from scikit-learn==1.5.1->-r requirements.txt (line 3)) (1.14.1)\r\n",
      "Requirement already satisfied: joblib>=1.2.0 in ./venv/lib/python3.12/site-packages (from scikit-learn==1.5.1->-r requirements.txt (line 3)) (1.4.2)\r\n",
      "Requirement already satisfied: threadpoolctl>=3.1.0 in ./venv/lib/python3.12/site-packages (from scikit-learn==1.5.1->-r requirements.txt (line 3)) (3.5.0)\r\n",
      "Requirement already satisfied: contourpy>=1.0.1 in ./venv/lib/python3.12/site-packages (from matplotlib==3.9.2->-r requirements.txt (line 4)) (1.3.0)\r\n",
      "Requirement already satisfied: cycler>=0.10 in ./venv/lib/python3.12/site-packages (from matplotlib==3.9.2->-r requirements.txt (line 4)) (0.12.1)\r\n",
      "Requirement already satisfied: fonttools>=4.22.0 in ./venv/lib/python3.12/site-packages (from matplotlib==3.9.2->-r requirements.txt (line 4)) (4.53.1)\r\n",
      "Requirement already satisfied: kiwisolver>=1.3.1 in ./venv/lib/python3.12/site-packages (from matplotlib==3.9.2->-r requirements.txt (line 4)) (1.4.7)\r\n",
      "Requirement already satisfied: packaging>=20.0 in ./venv/lib/python3.12/site-packages (from matplotlib==3.9.2->-r requirements.txt (line 4)) (24.1)\r\n",
      "Requirement already satisfied: pillow>=8 in ./venv/lib/python3.12/site-packages (from matplotlib==3.9.2->-r requirements.txt (line 4)) (10.4.0)\r\n",
      "Requirement already satisfied: pyparsing>=2.3.1 in ./venv/lib/python3.12/site-packages (from matplotlib==3.9.2->-r requirements.txt (line 4)) (3.1.4)\r\n",
      "Requirement already satisfied: notebook in ./venv/lib/python3.12/site-packages (from jupyter==1.1.1->-r requirements.txt (line 6)) (7.2.2)\r\n",
      "Requirement already satisfied: jupyter-console in ./venv/lib/python3.12/site-packages (from jupyter==1.1.1->-r requirements.txt (line 6)) (6.6.3)\r\n",
      "Requirement already satisfied: nbconvert in ./venv/lib/python3.12/site-packages (from jupyter==1.1.1->-r requirements.txt (line 6)) (7.16.4)\r\n",
      "Requirement already satisfied: ipykernel in ./venv/lib/python3.12/site-packages (from jupyter==1.1.1->-r requirements.txt (line 6)) (6.29.5)\r\n",
      "Requirement already satisfied: ipywidgets in ./venv/lib/python3.12/site-packages (from jupyter==1.1.1->-r requirements.txt (line 6)) (8.1.5)\r\n",
      "Requirement already satisfied: jupyterlab in ./venv/lib/python3.12/site-packages (from jupyter==1.1.1->-r requirements.txt (line 6)) (4.2.5)\r\n",
      "Requirement already satisfied: idna>=2.8 in ./venv/lib/python3.12/site-packages (from anyio<5,>=3.5.0->openai==1.42.0->-r requirements.txt (line 1)) (3.8)\r\n",
      "Requirement already satisfied: certifi in ./venv/lib/python3.12/site-packages (from httpx<1,>=0.23.0->openai==1.42.0->-r requirements.txt (line 1)) (2024.8.30)\r\n",
      "Requirement already satisfied: httpcore==1.* in ./venv/lib/python3.12/site-packages (from httpx<1,>=0.23.0->openai==1.42.0->-r requirements.txt (line 1)) (1.0.5)\r\n",
      "Requirement already satisfied: h11<0.15,>=0.13 in ./venv/lib/python3.12/site-packages (from httpcore==1.*->httpx<1,>=0.23.0->openai==1.42.0->-r requirements.txt (line 1)) (0.14.0)\r\n",
      "Requirement already satisfied: annotated-types>=0.4.0 in ./venv/lib/python3.12/site-packages (from pydantic<3,>=1.9.0->openai==1.42.0->-r requirements.txt (line 1)) (0.7.0)\r\n",
      "Requirement already satisfied: pydantic-core==2.23.2 in ./venv/lib/python3.12/site-packages (from pydantic<3,>=1.9.0->openai==1.42.0->-r requirements.txt (line 1)) (2.23.2)\r\n",
      "Requirement already satisfied: six>=1.5 in ./venv/lib/python3.12/site-packages (from python-dateutil>=2.8.2->pandas==2.2.2->-r requirements.txt (line 2)) (1.16.0)\r\n",
      "Requirement already satisfied: appnope in ./venv/lib/python3.12/site-packages (from ipykernel->jupyter==1.1.1->-r requirements.txt (line 6)) (0.1.4)\r\n",
      "Requirement already satisfied: comm>=0.1.1 in ./venv/lib/python3.12/site-packages (from ipykernel->jupyter==1.1.1->-r requirements.txt (line 6)) (0.2.2)\r\n",
      "Requirement already satisfied: debugpy>=1.6.5 in ./venv/lib/python3.12/site-packages (from ipykernel->jupyter==1.1.1->-r requirements.txt (line 6)) (1.8.5)\r\n",
      "Requirement already satisfied: ipython>=7.23.1 in ./venv/lib/python3.12/site-packages (from ipykernel->jupyter==1.1.1->-r requirements.txt (line 6)) (8.27.0)\r\n",
      "Requirement already satisfied: jupyter-client>=6.1.12 in ./venv/lib/python3.12/site-packages (from ipykernel->jupyter==1.1.1->-r requirements.txt (line 6)) (8.6.2)\r\n",
      "Requirement already satisfied: jupyter-core!=5.0.*,>=4.12 in ./venv/lib/python3.12/site-packages (from ipykernel->jupyter==1.1.1->-r requirements.txt (line 6)) (5.7.2)\r\n",
      "Requirement already satisfied: matplotlib-inline>=0.1 in ./venv/lib/python3.12/site-packages (from ipykernel->jupyter==1.1.1->-r requirements.txt (line 6)) (0.1.7)\r\n",
      "Requirement already satisfied: nest-asyncio in ./venv/lib/python3.12/site-packages (from ipykernel->jupyter==1.1.1->-r requirements.txt (line 6)) (1.6.0)\r\n",
      "Requirement already satisfied: psutil in ./venv/lib/python3.12/site-packages (from ipykernel->jupyter==1.1.1->-r requirements.txt (line 6)) (6.0.0)\r\n",
      "Requirement already satisfied: pyzmq>=24 in ./venv/lib/python3.12/site-packages (from ipykernel->jupyter==1.1.1->-r requirements.txt (line 6)) (26.2.0)\r\n",
      "Requirement already satisfied: tornado>=6.1 in ./venv/lib/python3.12/site-packages (from ipykernel->jupyter==1.1.1->-r requirements.txt (line 6)) (6.4.1)\r\n",
      "Requirement already satisfied: traitlets>=5.4.0 in ./venv/lib/python3.12/site-packages (from ipykernel->jupyter==1.1.1->-r requirements.txt (line 6)) (5.14.3)\r\n",
      "Requirement already satisfied: widgetsnbextension~=4.0.12 in ./venv/lib/python3.12/site-packages (from ipywidgets->jupyter==1.1.1->-r requirements.txt (line 6)) (4.0.13)\r\n",
      "Requirement already satisfied: jupyterlab-widgets~=3.0.12 in ./venv/lib/python3.12/site-packages (from ipywidgets->jupyter==1.1.1->-r requirements.txt (line 6)) (3.0.13)\r\n",
      "Requirement already satisfied: prompt-toolkit>=3.0.30 in ./venv/lib/python3.12/site-packages (from jupyter-console->jupyter==1.1.1->-r requirements.txt (line 6)) (3.0.47)\r\n",
      "Requirement already satisfied: pygments in ./venv/lib/python3.12/site-packages (from jupyter-console->jupyter==1.1.1->-r requirements.txt (line 6)) (2.18.0)\r\n",
      "Requirement already satisfied: async-lru>=1.0.0 in ./venv/lib/python3.12/site-packages (from jupyterlab->jupyter==1.1.1->-r requirements.txt (line 6)) (2.0.4)\r\n",
      "Requirement already satisfied: jinja2>=3.0.3 in ./venv/lib/python3.12/site-packages (from jupyterlab->jupyter==1.1.1->-r requirements.txt (line 6)) (3.1.4)\r\n",
      "Requirement already satisfied: jupyter-lsp>=2.0.0 in ./venv/lib/python3.12/site-packages (from jupyterlab->jupyter==1.1.1->-r requirements.txt (line 6)) (2.2.5)\r\n",
      "Requirement already satisfied: jupyter-server<3,>=2.4.0 in ./venv/lib/python3.12/site-packages (from jupyterlab->jupyter==1.1.1->-r requirements.txt (line 6)) (2.14.2)\r\n",
      "Requirement already satisfied: jupyterlab-server<3,>=2.27.1 in ./venv/lib/python3.12/site-packages (from jupyterlab->jupyter==1.1.1->-r requirements.txt (line 6)) (2.27.3)\r\n",
      "Requirement already satisfied: notebook-shim>=0.2 in ./venv/lib/python3.12/site-packages (from jupyterlab->jupyter==1.1.1->-r requirements.txt (line 6)) (0.2.4)\r\n",
      "Requirement already satisfied: setuptools>=40.1.0 in ./venv/lib/python3.12/site-packages (from jupyterlab->jupyter==1.1.1->-r requirements.txt (line 6)) (74.1.2)\r\n",
      "Requirement already satisfied: beautifulsoup4 in ./venv/lib/python3.12/site-packages (from nbconvert->jupyter==1.1.1->-r requirements.txt (line 6)) (4.12.3)\r\n",
      "Requirement already satisfied: bleach!=5.0.0 in ./venv/lib/python3.12/site-packages (from nbconvert->jupyter==1.1.1->-r requirements.txt (line 6)) (6.1.0)\r\n",
      "Requirement already satisfied: defusedxml in ./venv/lib/python3.12/site-packages (from nbconvert->jupyter==1.1.1->-r requirements.txt (line 6)) (0.7.1)\r\n",
      "Requirement already satisfied: jupyterlab-pygments in ./venv/lib/python3.12/site-packages (from nbconvert->jupyter==1.1.1->-r requirements.txt (line 6)) (0.3.0)\r\n",
      "Requirement already satisfied: markupsafe>=2.0 in ./venv/lib/python3.12/site-packages (from nbconvert->jupyter==1.1.1->-r requirements.txt (line 6)) (2.1.5)\r\n",
      "Requirement already satisfied: mistune<4,>=2.0.3 in ./venv/lib/python3.12/site-packages (from nbconvert->jupyter==1.1.1->-r requirements.txt (line 6)) (3.0.2)\r\n",
      "Requirement already satisfied: nbclient>=0.5.0 in ./venv/lib/python3.12/site-packages (from nbconvert->jupyter==1.1.1->-r requirements.txt (line 6)) (0.10.0)\r\n",
      "Requirement already satisfied: nbformat>=5.7 in ./venv/lib/python3.12/site-packages (from nbconvert->jupyter==1.1.1->-r requirements.txt (line 6)) (5.10.4)\r\n",
      "Requirement already satisfied: pandocfilters>=1.4.1 in ./venv/lib/python3.12/site-packages (from nbconvert->jupyter==1.1.1->-r requirements.txt (line 6)) (1.5.1)\r\n",
      "Requirement already satisfied: tinycss2 in ./venv/lib/python3.12/site-packages (from nbconvert->jupyter==1.1.1->-r requirements.txt (line 6)) (1.3.0)\r\n",
      "Requirement already satisfied: webencodings in ./venv/lib/python3.12/site-packages (from bleach!=5.0.0->nbconvert->jupyter==1.1.1->-r requirements.txt (line 6)) (0.5.1)\r\n",
      "Requirement already satisfied: decorator in ./venv/lib/python3.12/site-packages (from ipython>=7.23.1->ipykernel->jupyter==1.1.1->-r requirements.txt (line 6)) (5.1.1)\r\n",
      "Requirement already satisfied: jedi>=0.16 in ./venv/lib/python3.12/site-packages (from ipython>=7.23.1->ipykernel->jupyter==1.1.1->-r requirements.txt (line 6)) (0.19.1)\r\n",
      "Requirement already satisfied: stack-data in ./venv/lib/python3.12/site-packages (from ipython>=7.23.1->ipykernel->jupyter==1.1.1->-r requirements.txt (line 6)) (0.6.3)\r\n",
      "Requirement already satisfied: pexpect>4.3 in ./venv/lib/python3.12/site-packages (from ipython>=7.23.1->ipykernel->jupyter==1.1.1->-r requirements.txt (line 6)) (4.9.0)\r\n",
      "Requirement already satisfied: platformdirs>=2.5 in ./venv/lib/python3.12/site-packages (from jupyter-core!=5.0.*,>=4.12->ipykernel->jupyter==1.1.1->-r requirements.txt (line 6)) (4.3.2)\r\n",
      "Requirement already satisfied: argon2-cffi>=21.1 in ./venv/lib/python3.12/site-packages (from jupyter-server<3,>=2.4.0->jupyterlab->jupyter==1.1.1->-r requirements.txt (line 6)) (23.1.0)\r\n",
      "Requirement already satisfied: jupyter-events>=0.9.0 in ./venv/lib/python3.12/site-packages (from jupyter-server<3,>=2.4.0->jupyterlab->jupyter==1.1.1->-r requirements.txt (line 6)) (0.10.0)\r\n",
      "Requirement already satisfied: jupyter-server-terminals>=0.4.4 in ./venv/lib/python3.12/site-packages (from jupyter-server<3,>=2.4.0->jupyterlab->jupyter==1.1.1->-r requirements.txt (line 6)) (0.5.3)\r\n",
      "Requirement already satisfied: overrides>=5.0 in ./venv/lib/python3.12/site-packages (from jupyter-server<3,>=2.4.0->jupyterlab->jupyter==1.1.1->-r requirements.txt (line 6)) (7.7.0)\r\n",
      "Requirement already satisfied: prometheus-client>=0.9 in ./venv/lib/python3.12/site-packages (from jupyter-server<3,>=2.4.0->jupyterlab->jupyter==1.1.1->-r requirements.txt (line 6)) (0.20.0)\r\n",
      "Requirement already satisfied: send2trash>=1.8.2 in ./venv/lib/python3.12/site-packages (from jupyter-server<3,>=2.4.0->jupyterlab->jupyter==1.1.1->-r requirements.txt (line 6)) (1.8.3)\r\n",
      "Requirement already satisfied: terminado>=0.8.3 in ./venv/lib/python3.12/site-packages (from jupyter-server<3,>=2.4.0->jupyterlab->jupyter==1.1.1->-r requirements.txt (line 6)) (0.18.1)\r\n",
      "Requirement already satisfied: websocket-client>=1.7 in ./venv/lib/python3.12/site-packages (from jupyter-server<3,>=2.4.0->jupyterlab->jupyter==1.1.1->-r requirements.txt (line 6)) (1.8.0)\r\n",
      "Requirement already satisfied: babel>=2.10 in ./venv/lib/python3.12/site-packages (from jupyterlab-server<3,>=2.27.1->jupyterlab->jupyter==1.1.1->-r requirements.txt (line 6)) (2.16.0)\r\n",
      "Requirement already satisfied: json5>=0.9.0 in ./venv/lib/python3.12/site-packages (from jupyterlab-server<3,>=2.27.1->jupyterlab->jupyter==1.1.1->-r requirements.txt (line 6)) (0.9.25)\r\n",
      "Requirement already satisfied: jsonschema>=4.18.0 in ./venv/lib/python3.12/site-packages (from jupyterlab-server<3,>=2.27.1->jupyterlab->jupyter==1.1.1->-r requirements.txt (line 6)) (4.23.0)\r\n",
      "Requirement already satisfied: requests>=2.31 in ./venv/lib/python3.12/site-packages (from jupyterlab-server<3,>=2.27.1->jupyterlab->jupyter==1.1.1->-r requirements.txt (line 6)) (2.32.3)\r\n",
      "Requirement already satisfied: fastjsonschema>=2.15 in ./venv/lib/python3.12/site-packages (from nbformat>=5.7->nbconvert->jupyter==1.1.1->-r requirements.txt (line 6)) (2.20.0)\r\n",
      "Requirement already satisfied: wcwidth in ./venv/lib/python3.12/site-packages (from prompt-toolkit>=3.0.30->jupyter-console->jupyter==1.1.1->-r requirements.txt (line 6)) (0.2.13)\r\n",
      "Requirement already satisfied: soupsieve>1.2 in ./venv/lib/python3.12/site-packages (from beautifulsoup4->nbconvert->jupyter==1.1.1->-r requirements.txt (line 6)) (2.6)\r\n",
      "Requirement already satisfied: argon2-cffi-bindings in ./venv/lib/python3.12/site-packages (from argon2-cffi>=21.1->jupyter-server<3,>=2.4.0->jupyterlab->jupyter==1.1.1->-r requirements.txt (line 6)) (21.2.0)\r\n",
      "Requirement already satisfied: parso<0.9.0,>=0.8.3 in ./venv/lib/python3.12/site-packages (from jedi>=0.16->ipython>=7.23.1->ipykernel->jupyter==1.1.1->-r requirements.txt (line 6)) (0.8.4)\r\n",
      "Requirement already satisfied: attrs>=22.2.0 in ./venv/lib/python3.12/site-packages (from jsonschema>=4.18.0->jupyterlab-server<3,>=2.27.1->jupyterlab->jupyter==1.1.1->-r requirements.txt (line 6)) (24.2.0)\r\n",
      "Requirement already satisfied: jsonschema-specifications>=2023.03.6 in ./venv/lib/python3.12/site-packages (from jsonschema>=4.18.0->jupyterlab-server<3,>=2.27.1->jupyterlab->jupyter==1.1.1->-r requirements.txt (line 6)) (2023.12.1)\r\n",
      "Requirement already satisfied: referencing>=0.28.4 in ./venv/lib/python3.12/site-packages (from jsonschema>=4.18.0->jupyterlab-server<3,>=2.27.1->jupyterlab->jupyter==1.1.1->-r requirements.txt (line 6)) (0.35.1)\r\n",
      "Requirement already satisfied: rpds-py>=0.7.1 in ./venv/lib/python3.12/site-packages (from jsonschema>=4.18.0->jupyterlab-server<3,>=2.27.1->jupyterlab->jupyter==1.1.1->-r requirements.txt (line 6)) (0.20.0)\r\n",
      "Requirement already satisfied: python-json-logger>=2.0.4 in ./venv/lib/python3.12/site-packages (from jupyter-events>=0.9.0->jupyter-server<3,>=2.4.0->jupyterlab->jupyter==1.1.1->-r requirements.txt (line 6)) (2.0.7)\r\n",
      "Requirement already satisfied: pyyaml>=5.3 in ./venv/lib/python3.12/site-packages (from jupyter-events>=0.9.0->jupyter-server<3,>=2.4.0->jupyterlab->jupyter==1.1.1->-r requirements.txt (line 6)) (6.0.2)\r\n",
      "Requirement already satisfied: rfc3339-validator in ./venv/lib/python3.12/site-packages (from jupyter-events>=0.9.0->jupyter-server<3,>=2.4.0->jupyterlab->jupyter==1.1.1->-r requirements.txt (line 6)) (0.1.4)\r\n",
      "Requirement already satisfied: rfc3986-validator>=0.1.1 in ./venv/lib/python3.12/site-packages (from jupyter-events>=0.9.0->jupyter-server<3,>=2.4.0->jupyterlab->jupyter==1.1.1->-r requirements.txt (line 6)) (0.1.1)\r\n",
      "Requirement already satisfied: ptyprocess>=0.5 in ./venv/lib/python3.12/site-packages (from pexpect>4.3->ipython>=7.23.1->ipykernel->jupyter==1.1.1->-r requirements.txt (line 6)) (0.7.0)\r\n",
      "Requirement already satisfied: charset-normalizer<4,>=2 in ./venv/lib/python3.12/site-packages (from requests>=2.31->jupyterlab-server<3,>=2.27.1->jupyterlab->jupyter==1.1.1->-r requirements.txt (line 6)) (3.3.2)\r\n",
      "Requirement already satisfied: urllib3<3,>=1.21.1 in ./venv/lib/python3.12/site-packages (from requests>=2.31->jupyterlab-server<3,>=2.27.1->jupyterlab->jupyter==1.1.1->-r requirements.txt (line 6)) (2.2.2)\r\n",
      "Requirement already satisfied: executing>=1.2.0 in ./venv/lib/python3.12/site-packages (from stack-data->ipython>=7.23.1->ipykernel->jupyter==1.1.1->-r requirements.txt (line 6)) (2.1.0)\r\n",
      "Requirement already satisfied: asttokens>=2.1.0 in ./venv/lib/python3.12/site-packages (from stack-data->ipython>=7.23.1->ipykernel->jupyter==1.1.1->-r requirements.txt (line 6)) (2.4.1)\r\n",
      "Requirement already satisfied: pure-eval in ./venv/lib/python3.12/site-packages (from stack-data->ipython>=7.23.1->ipykernel->jupyter==1.1.1->-r requirements.txt (line 6)) (0.2.3)\r\n",
      "Requirement already satisfied: fqdn in ./venv/lib/python3.12/site-packages (from jsonschema[format-nongpl]>=4.18.0->jupyter-events>=0.9.0->jupyter-server<3,>=2.4.0->jupyterlab->jupyter==1.1.1->-r requirements.txt (line 6)) (1.5.1)\r\n",
      "Requirement already satisfied: isoduration in ./venv/lib/python3.12/site-packages (from jsonschema[format-nongpl]>=4.18.0->jupyter-events>=0.9.0->jupyter-server<3,>=2.4.0->jupyterlab->jupyter==1.1.1->-r requirements.txt (line 6)) (20.11.0)\r\n",
      "Requirement already satisfied: jsonpointer>1.13 in ./venv/lib/python3.12/site-packages (from jsonschema[format-nongpl]>=4.18.0->jupyter-events>=0.9.0->jupyter-server<3,>=2.4.0->jupyterlab->jupyter==1.1.1->-r requirements.txt (line 6)) (3.0.0)\r\n",
      "Requirement already satisfied: uri-template in ./venv/lib/python3.12/site-packages (from jsonschema[format-nongpl]>=4.18.0->jupyter-events>=0.9.0->jupyter-server<3,>=2.4.0->jupyterlab->jupyter==1.1.1->-r requirements.txt (line 6)) (1.3.0)\r\n",
      "Requirement already satisfied: webcolors>=24.6.0 in ./venv/lib/python3.12/site-packages (from jsonschema[format-nongpl]>=4.18.0->jupyter-events>=0.9.0->jupyter-server<3,>=2.4.0->jupyterlab->jupyter==1.1.1->-r requirements.txt (line 6)) (24.8.0)\r\n",
      "Requirement already satisfied: cffi>=1.0.1 in ./venv/lib/python3.12/site-packages (from argon2-cffi-bindings->argon2-cffi>=21.1->jupyter-server<3,>=2.4.0->jupyterlab->jupyter==1.1.1->-r requirements.txt (line 6)) (1.17.1)\r\n",
      "Requirement already satisfied: pycparser in ./venv/lib/python3.12/site-packages (from cffi>=1.0.1->argon2-cffi-bindings->argon2-cffi>=21.1->jupyter-server<3,>=2.4.0->jupyterlab->jupyter==1.1.1->-r requirements.txt (line 6)) (2.22)\r\n",
      "Requirement already satisfied: arrow>=0.15.0 in ./venv/lib/python3.12/site-packages (from isoduration->jsonschema[format-nongpl]>=4.18.0->jupyter-events>=0.9.0->jupyter-server<3,>=2.4.0->jupyterlab->jupyter==1.1.1->-r requirements.txt (line 6)) (1.3.0)\r\n",
      "Requirement already satisfied: types-python-dateutil>=2.8.10 in ./venv/lib/python3.12/site-packages (from arrow>=0.15.0->isoduration->jsonschema[format-nongpl]>=4.18.0->jupyter-events>=0.9.0->jupyter-server<3,>=2.4.0->jupyterlab->jupyter==1.1.1->-r requirements.txt (line 6)) (2.9.0.20240906)\r\n"
     ]
    }
   ],
   "execution_count": 1
  },
  {
   "cell_type": "markdown",
   "source": [
    "# Project 2 AI Chat Notebook\n",
    "\n",
    "In this notebook, we want to see the code you use to solve\n",
    "the machine learning tasks below.  Additionally, for the supervised section, we will want to see an image of a graph representing \n",
    "the training times and accuracy of supervised models.\n",
    "\n",
    "When run, this notebook should first run the unsupervised learning algorithm, and then the supervised algorithm.\n"
   ],
   "metadata": {
    "collapsed": false
   },
   "id": "fb127947ae786d3e"
  },
  {
   "cell_type": "markdown",
   "source": [
    "# Unsupervised Learning"
   ],
   "metadata": {
    "collapsed": false
   },
   "id": "33f340e736f29545"
  },
  {
   "cell_type": "markdown",
   "source": [
    "In this section, we will use the data set as a whole and classify the code using the unsupervised K-means clustering algorithm.\n",
    "Use the imports below.\n",
    " "
   ],
   "metadata": {
    "collapsed": false
   },
   "id": "8b35358120e31f"
  },
  {
   "cell_type": "code",
   "source": [
    "import glob\n",
    "\n",
    "import pandas as pd\n",
    "from sklearn.cluster import KMeans\n",
    "from sklearn.feature_extraction.text import TfidfVectorizer\n"
   ],
   "metadata": {
    "collapsed": false,
    "ExecuteTime": {
     "end_time": "2024-09-09T01:46:34.015978Z",
     "start_time": "2024-09-09T01:46:28.555047Z"
    }
   },
   "id": "c81794323049a9e",
   "outputs": [],
   "execution_count": 2
  },
  {
   "metadata": {},
   "cell_type": "markdown",
   "source": [
    "- Load all data files matching 'data/datasets/train-00000-5k-*.parquet'.\n",
    "- Merge those dataframes into a single dataframe \"df\"."
   ],
   "id": "336f881e632e7ba8"
  },
  {
   "metadata": {
    "ExecuteTime": {
     "end_time": "2024-09-09T01:50:04.952553Z",
     "start_time": "2024-09-09T01:50:04.271656Z"
    }
   },
   "cell_type": "code",
   "source": [
    "# Find all data files matching the pattern\n",
    "files = glob.glob('data/datasets/train-00000-5k-*.parquet')\n",
    "\n",
    "# Load all data files into a list of dataframes\n",
    "dfs = [pd.read_parquet(file) for file in files]\n",
    "\n",
    "# Merge all dataframes into a single dataframe\n",
    "df = pd.concat(dfs, ignore_index=True)\n",
    "\n",
    "# Display the merged dataframe\n",
    "print(df.head())"
   ],
   "id": "617de8149ec806a0",
   "outputs": [
    {
     "name": "stdout",
     "output_type": "stream",
     "text": [
      "                                                code             repo_name  \\\n",
      "0  #!/usr/bin/perl\\n\\nuse warnings;\\nuse strict;\\...        MASmedios/koha   \n",
      "1  /* Implementation of the BSD usleep function u...    Chilledheart/glibc   \n",
      "2  {% extends \"allianceauth/base.html\" %}\\n{% loa...  R4stl1n/allianceauth   \n",
      "3  #include <config.h>\\n\\n#include \"testutils.h\"\\...   ethernetdan/libvirt   \n",
      "4  /* Install given floating-point environment.\\n...    Chilledheart/glibc   \n",
      "\n",
      "                                                path language  license  size  \n",
      "0                        patroncards/image-manage.pl     Perl  gpl-2.0  6701  \n",
      "1                             sysdeps/posix/usleep.c        C  gpl-2.0  1316  \n",
      "2  allianceauth/services/modules/openfire/templat...     HTML  gpl-2.0  1217  \n",
      "3                            tests/openvzutilstest.c        C  gpl-2.0  4363  \n",
      "4                        sysdeps/i386/fpu/fesetenv.c        C  gpl-2.0  3996  \n"
     ]
    }
   ],
   "execution_count": 3
  },
  {
   "cell_type": "markdown",
   "source": [
    "- Define the code snippets (from data frames's \"code\" attribute)\n",
    "- Define labels (from dataframe's \"language\" attribute)"
   ],
   "metadata": {
    "collapsed": false
   },
   "id": "a5fa0bcc5eb0a26d"
  },
  {
   "metadata": {
    "ExecuteTime": {
     "end_time": "2024-09-09T02:17:21.423549Z",
     "start_time": "2024-09-09T02:17:21.326240Z"
    }
   },
   "cell_type": "code",
   "source": [
    "# Define the code snippets\n",
    "code_snippets = df['code'].tolist()\n",
    "\n",
    "# Define the labels from the dataframe\n",
    "labels = df['language'].tolist()"
   ],
   "id": "175799a8f4fc4d40",
   "outputs": [],
   "execution_count": 5
  },
  {
   "cell_type": "markdown",
   "source": [
    "- Convert code snippets to TF-IDF features"
   ],
   "metadata": {
    "collapsed": false
   },
   "id": "cd2b19d1f7c5b8b8"
  },
  {
   "metadata": {
    "ExecuteTime": {
     "end_time": "2024-09-09T02:17:32.565353Z",
     "start_time": "2024-09-09T02:17:23.480496Z"
    }
   },
   "cell_type": "code",
   "source": [
    "from sklearn.feature_extraction.text import TfidfVectorizer\n",
    "\n",
    "# Initialize the TF-IDF vectorizer\n",
    "tfidf_vectorizer = TfidfVectorizer()\n",
    "\n",
    "# Fit and transform the code snippets to TF-IDF features\n",
    "tfidf_features = tfidf_vectorizer.fit_transform(code_snippets)"
   ],
   "id": "882c5ee1e823f355",
   "outputs": [],
   "execution_count": 6
  },
  {
   "cell_type": "markdown",
   "source": [
    "- Perform K-Means clustering"
   ],
   "metadata": {
    "collapsed": false
   },
   "id": "ae363b1f1b2db948"
  },
  {
   "metadata": {
    "ExecuteTime": {
     "end_time": "2024-09-09T02:31:14.782717Z",
     "start_time": "2024-09-09T02:31:10.640055Z"
    }
   },
   "cell_type": "code",
   "source": [
    "from sklearn.cluster import KMeans\n",
    "\n",
    "# Perform K-Means clustering with 5 clusters\n",
    "kmeans = KMeans(n_clusters=8, random_state=42)\n",
    "cluster_labels = kmeans.fit_predict(tfidf_features)\n",
    "\n",
    "# Display the cluster labels\n",
    "print(cluster_labels)\n"
   ],
   "id": "4b09f5ebefca39e1",
   "outputs": [
    {
     "name": "stdout",
     "output_type": "stream",
     "text": [
      "[2 4 1 ... 4 5 2]\n"
     ]
    }
   ],
   "execution_count": 12
  },
  {
   "cell_type": "markdown",
   "source": "- Print the cluster assignments with each cluster being truncated to 80 characters long.\n",
   "metadata": {
    "collapsed": false
   },
   "id": "411024110293e895"
  },
  {
   "metadata": {
    "ExecuteTime": {
     "end_time": "2024-09-09T02:31:16.830603Z",
     "start_time": "2024-09-09T02:31:16.762873Z"
    }
   },
   "cell_type": "code",
   "source": [
    "# Print 10 sample code snippets truncated to 80 characters for each identified cluster\n",
    "for cluster_num in range(8):\n",
    "    cluster_indices = cluster_labels == cluster_num\n",
    "    cluster_snippets = [snippet.replace('\\n', ' ')[:80] + '...' if len(snippet.replace('\\n', ' ')) > 80 else snippet.replace('\\n', ' ') for snippet in df.loc[cluster_indices, 'code'].head(10)]\n",
    "    \n",
    "    print(f\"Sample Code Snippets for Cluster {cluster_num}:\")\n",
    "    for snippet in cluster_snippets:\n",
    "        print(snippet)\n",
    "    print()\n",
    "\n"
   ],
   "id": "ea15ca506ea001c8",
   "outputs": [
    {
     "name": "stdout",
     "output_type": "stream",
     "text": [
      "Sample Code Snippets for Cluster 0:\n",
      "/*  * Copyright 2008 ZXing authors  *  * Licensed under the Apache License, Vers...\n",
      "<?php /*  * Copyright 2014 Google Inc.  *  * Licensed under the Apache License, ...\n",
      "  * Copyright 2005-2007 L...nents 7.3 License.\n",
      "/**  * JBoss, Home of Professional Open Source.  * Copyright 2014 Red Hat, Inc.,...\n",
      "/**  * Licensed to the Apache Software Foundation (ASF) under one or more  * con...\n",
      "--- license: >     Licensed to the Apache Software Foundation (ASF) under one   ...\n",
      "/**  * Licensed to the Apache Software Foundation (ASF) under one or more  * con...\n",
      "# Copyright 1999-2010 University of Chicago #  # Licensed under the Apache Licen...\n",
      "/*  * Licensed to the Apache Software Foundation (ASF) under one or more  * cont...\n",
      "/*  *  * Copyright 2015 gRPC authors.  *  * Licensed under the Apache License, V...\n",
      "\n",
      "Sample Code Snippets for Cluster 1:\n",
      "{% extends \"allianceauth/base.html\" %} {% load bootstrap %} {% load staticfiles ...\n",
      "<!DOCTYPE HTML PUBLIC \"-//W3C//DTD HTML 4.01 Transitional//EN\" \"http://www.w3.or...\n",
      "<!DOCTYPE HTML PUBLIC \"-//W3C//DTD HTML 4.01 Transitional//EN\" \"http://www.w3.or...\n",
      "<!DOCTYPE HTML PUBLIC \"-//W3C//DTD HTML 4.01 Transitional//EN\" \"http://www.w3.or...\n",
      "<div id=\"configForm\"> \t<ul> \t\t<li><a href=\"#general\">General</a></li> \t\t<li><a h...\n",
      "<?php /* ---------------------------------------------------------------------- ...\n",
      "<!DOCTYPE HTML PUBLIC \"-//W3C//DTD HTML 4.01 Transitional//EN\" \"http://www.w3.or...\n",
      "<html> <head>   <meta http-equiv=\"Content-Type\" content=\"text/html; charset=utf-...\n",
      "<html> <head>  <meta http-equiv=\"Content-Type\" content=\"text/html; charset=utf-8...\n",
      "<div class=\"l-wrapper\">     <div class=\"l-btn-group\">         <button *ngFor=\"le...\n",
      "\n",
      "Sample Code Snippets for Cluster 2:\n",
      "#!/usr/bin/perl  use warnings; use strict;  use CGI; use Graphics::Magick; use P...\n",
      " #include \"fdiskP.h\"  /*  * Don't use this function derectly, use fdisk_new_cont...\n",
      "function test() {  return (function foo(){}).name === 'foo' &&   (function(){})....\n",
      "FD40.ready(function($) {  var jQuery = $;// Catalan jQuery.timeago.settings.stri...\n",
      "<?php  namespace Drupal\\webform;  use Drupal\\Core\\Archiver\\ArchiveTar; use Drupa...\n",
      ".size 8000  .text@48 \tinc a \tldff(45), a \tjp lstatint  .text@100 \tjp lbegin  .da...\n",
      "/* $NoKeywords:$ */ /**  * @file  *  * Config FCH HD Audio Controller  *  *  *  ...\n",
      "//----------------------------------------------------------------------------- ...\n",
      "<?php // Text $_['text_title']           = 'Credit or Debit Card (Processed secu...\n",
      "/**  * @file Visual mapping.  */ define(function (require) {      var zrUtil = r...\n",
      "\n",
      "Sample Code Snippets for Cluster 3:\n",
      "# Authors: #   Petr Vobornik <pvoborni@redhat.com> # # Copyright (C) 2013  Red H...\n",
      "import os.path import time  from django.core.management.base import BaseCommand ...\n",
      "# -*- coding: utf-8 -*- ########################################################...\n",
      "# ---------------------------------------------------------------------- # Numen...\n",
      "# Copyright (c) 2015 FUJITSU LIMITED # Copyright (c) 2012 EMC Corporation. # Cop...\n",
      "// Copyright 2014 The Rust Project Developers. See the COPYRIGHT // file at the ...\n",
      "# Copyright 2015 The TensorFlow Authors. All Rights Reserved. # # Licensed under...\n",
      "from __future__ import print_function  import shlex import subprocess import sys...\n",
      "\"\"\" Control global computation context \"\"\"  from collections import defaultdict ...\n",
      "from __future__ import unicode_literals  from django.core.exceptions import Perm...\n",
      "\n",
      "Sample Code Snippets for Cluster 4:\n",
      "/* Implementation of the BSD usleep function using nanosleep.    Copyright (C) 1...\n",
      "/*    * JCE Editor                 2.2.4  * @package                 JCE  * @url...\n",
      "<?php // This file is part of Moodle - http://moodle.org/ // // Moodle is free s...\n",
      " ===========================================================================...\n",
      " // common.h...====================================================\n",
      "/**  * This file is part of muCommander, http://www.mucommander.com  * Copyright...\n",
      "/* Copyright (C) 2015-2016 Free Software Foundation, Inc.    This file is part o...\n",
      "<?php  /**  * Hoa  *  *  * @license  *  * New BSD License  *  * Copyright © 2007...\n",
      "﻿#region netDxf library, Copyright (C) 2009-2018 Daniel Carvajal (haplokuon@gmai...\n",
      "/*  * Copyright (C) 2010 Google Inc. All rights reserved.  *  * Redistribution a...\n",
      "\n",
      "Sample Code Snippets for Cluster 5:\n",
      "/*  * Copyright (c) 1998-2012 Caucho Technology -- all rights reserved  *  * Thi...\n",
      "/*  * Licensed to the Apache Software Foundation (ASF) under one or more  * cont...\n",
      "/*******************************************************************************...\n",
      "/**  * Copyright (C) 2013 - 2016 Johannes Taelman  *  * This file is part of Axo...\n",
      "/*  * #%~  * org.overture.ide.core  * %%  * Copyright (C) 2008 - 2014 Overture  ...\n",
      "/**  * This Source Code Form is subject to the terms of the Mozilla Public Licen...\n",
      "package tc.oc.commons.core.plugin;  import java.util.Set;  import tc.oc.commons....\n",
      "package org.jboss.hal.testsuite.test.configuration.undertow;  import org.apache....\n",
      "/*  * Copyright (c) 2014, WSO2 Inc. (http://www.wso2.org) All Rights Reserved.  ...\n",
      "/*  * Copyright 2018 Red Hat, Inc. and/or its affiliates.  *  * Licensed under t...\n",
      "\n",
      "Sample Code Snippets for Cluster 6:\n",
      "#include <config.h>  #include \"testutils.h\"  #ifdef WITH_OPENVZ  # include <stdi...\n",
      "/* Install given floating-point environment.    Copyright (C) 1997-2016 Free Sof...\n",
      "/***************************************************************************   q...\n",
      "/* Copyright (c) 2009-2012, The Linux Foundation. All rights reserved.  *  * Thi...\n",
      "/*  * Flash partitions described by the OF (or flattened) device tree  *  * Copy...\n",
      "package emu.project64.input;  import java.util.Set;  import emu.project64.Androi...\n",
      " void turn(int i, int j, int x, int y, int z,int x0, int y0, int L, int W...\n",
      "/* testsuite.h - failif */  process\ttest_addargs(bool8); process\ttest_bigargs(bo...\n",
      "/*  This project is free software: you can redistribute it and/or modify  it und...\n",
      "/* pmlastmsg.c  * This is a parser module specifically for those horrible  * \"<P...\n",
      "\n",
      "Sample Code Snippets for Cluster 7:\n",
      "﻿// ----------------------------------------------------------------------------...\n",
      "/* **************************************************************************** ...\n",
      "﻿using UnityEngine; using System.Collections;  /// <summary> /// Key input enume...\n",
      "// Copyright (c) Microsoft Corporation. All rights reserved. // Licensed under t...\n",
      "﻿using System; using System.Collections.Generic; using System.Linq; using System...\n",
      "﻿/*  * Creado por SharpDevelop.  * Usuario: jonathan  * Fecha: 09/12/2013  * Hor...\n",
      "﻿using System; using System.Collections; using System.Collections.Generic; using...\n",
      "using System.ComponentModel.DataAnnotations;  using FluentMigrator.Infrastructur...\n",
      "﻿#region License //  // Copyright (c) 2013, Kooboo team //  // Licensed under th...\n",
      "// Copyright (c) Microsoft. All rights reserved. // Licensed under the MIT licen...\n",
      "\n"
     ]
    }
   ],
   "execution_count": 13
  },
  {
   "cell_type": "markdown",
   "source": [
    "## TODO: Unsupervised Learning Cluster Explanation\n",
    "\n",
    "- This should be an English paragraph statement declaring how you assessed the quality/meaning of the clusters.\n",
    "This should be simply explaining how you think each cluster is formed/defined."
   ],
   "metadata": {
    "collapsed": false
   },
   "id": "ccfeb752fa1a9db9"
  },
  {
   "cell_type": "markdown",
   "source": "I think clusters have been formed by identifying the syntax of the code and trying to place similar code in the same cluster. Cluster 0 has code snippets that are related to PHP. Since I am not familiar with PHP, I'm aware of the syntax and as most of the samples only show comments, I can't be sure. Cluster 1 has code related to HTML which is clear from the tags. Cluster 2 seems to contain a mix of PHP and Perl. Cluster 3 contains code snippets related to Python as I can see Django being used. Cluster 4 contains code snippets related to Java evident from its comment syntax. Cluster 5 also seems like Java code. Cluster 6 contains code snippets related to C. Cluster 7 contains code snippets related to Ruby. ",
   "metadata": {
    "collapsed": false
   },
   "id": "219068c09833fa91"
  },
  {
   "cell_type": "markdown",
   "source": [
    "# Supervised Learning\n",
    "\n",
    "Write a python script that loads successively larger data files and merges them into larger training sets.\n",
    "For each training set, let's track training time, prediction time, and accuracy.\n",
    "Use the imports below."
   ],
   "metadata": {
    "collapsed": false
   },
   "id": "1efbafd5bb8492a7"
  },
  {
   "cell_type": "code",
   "source": [
    "import glob\n",
    "import time\n",
    "\n",
    "import pandas as pd\n",
    "from sklearn.feature_extraction.text import TfidfVectorizer\n",
    "from sklearn.metrics import classification_report, accuracy_score\n",
    "from sklearn.model_selection import train_test_split\n",
    "from sklearn.svm import SVC\n"
   ],
   "metadata": {
    "collapsed": false,
    "ExecuteTime": {
     "end_time": "2024-09-09T03:50:10.564333Z",
     "start_time": "2024-09-09T03:50:10.557160Z"
    }
   },
   "id": "e891d8a82fdf7686",
   "outputs": [],
   "execution_count": 48
  },
  {
   "cell_type": "markdown",
   "source": [
    "- Track measurements for each round: the round number/index, how long in seconds the train, predict steps take, and an accuracy report\n",
    "- Use a list of dictionaries for measurement storage, with \"round\", \"train\", \"predict\", \"accuracy\" as keys"
   ],
   "metadata": {
    "collapsed": false
   },
   "id": "ba6c646cb7c8f491"
  },
  {
   "metadata": {
    "ExecuteTime": {
     "end_time": "2024-09-09T03:50:15.383491Z",
     "start_time": "2024-09-09T03:50:15.374005Z"
    }
   },
   "cell_type": "code",
   "source": [
    "# Initialize list to store measurements\n",
    "measurements = []\n",
    "\n",
    "# Function to track measurements for each round\n",
    "def track_measurements(round_num, train_time, predict_steps, accuracy):\n",
    "    measurement = {\n",
    "        \"round\": round_num,\n",
    "        \"train\": train_time,\n",
    "        \"predict\": predict_steps,\n",
    "        \"accuracy\": accuracy\n",
    "    }\n",
    "    measurements.append(measurement)\n"
   ],
   "id": "994668207fb954d2",
   "outputs": [],
   "execution_count": 49
  },
  {
   "cell_type": "markdown",
   "source": [
    "- Write a function named learn that takes a dataframe and an index as parameters.\n",
    "- The index indicates the round number of learning. The function should:\n",
    "- 1. Create a dictionary to store the measurements for this round\n",
    "- 2. Print a message indicating the round number\n",
    "- 3. Store the round number in the dictionary under 'round'\n",
    "- 4. Split the dataframe into code snippets and labels\n",
    "- 5. Split the code snippets and labels into training and test sets\n",
    "- 6. Create a TF-IDF vectorizer\n",
    "- 7. Use the 'fit_transform' method on the training data to learn the vocabulary and idf, and return term-document matrix.\n",
    "- 8. Use the 'transform' method on the test data to transform documents to document-term matrix.\n",
    "- 9. Create a Support Vector Machine classifier\n",
    "- 10. Train the classifier using the training data\n",
    "- 11. Save the model to a file and load it back from a file (to make sure it works)\n",
    "- 12. Use the classifier to predict the labels for the test data\n",
    "- 13. Print the classification report which should be a dictionary\n",
    "- 14. Store the training time in the dictionary under 'train'\n",
    "- 15. Store the prediction time in the dictionary under 'predict'\n",
    "- 16. Store the classification report in the dictionary under 'report'\n",
    "- 17. Add 'accuracy' to the dictionary and set it to the accuracy score from the classification report\n",
    "- 18. Append the dictionary to the measurements list for this round"
   ],
   "metadata": {
    "collapsed": false
   },
   "id": "dd2d32c6cf84ea7f"
  },
  {
   "metadata": {
    "ExecuteTime": {
     "end_time": "2024-09-09T03:50:19.042830Z",
     "start_time": "2024-09-09T03:50:19.027816Z"
    }
   },
   "cell_type": "code",
   "source": [
    "from sklearn.model_selection import train_test_split\n",
    "from sklearn.feature_extraction.text import TfidfVectorizer\n",
    "from sklearn.svm import SVC\n",
    "from sklearn.metrics import classification_report\n",
    "import pickle\n",
    "import time\n",
    "\n",
    "measurements = []\n",
    "\n",
    "def learn(df, index):\n",
    "    # Create dictionary to store measurements\n",
    "    measurement = {}\n",
    "    \n",
    "    # Print round number\n",
    "    print(\"Round:\", index)\n",
    "    \n",
    "    # Store round number\n",
    "    measurement[\"round\"] = index\n",
    "    \n",
    "    # Split dataframe into code snippets and labels\n",
    "    X = df['code']\n",
    "    y = df['language']\n",
    "    \n",
    "    # Split data into training and test sets\n",
    "    X_train, X_test, y_train, y_test = train_test_split(X, y, test_size=0.2, random_state=42)\n",
    "    \n",
    "    # Create TF-IDF vectorizer\n",
    "    vectorizer = TfidfVectorizer()\n",
    "    \n",
    "    # Fit and transform training data\n",
    "    start_train = time.time()\n",
    "    X_train_tfidf = vectorizer.fit_transform(X_train)\n",
    "    end_train = time.time()\n",
    "    \n",
    "    # Transform test data\n",
    "    start_predict = time.time()\n",
    "    X_test_tfidf = vectorizer.transform(X_test)\n",
    "    end_predict = time.time()\n",
    "    \n",
    "    # Create Support Vector Machine classifier\n",
    "    clf = SVC()\n",
    "    \n",
    "    # Train classifier\n",
    "    clf.fit(X_train_tfidf, y_train)\n",
    "    \n",
    "    # Save and load model\n",
    "    with open('svm_model.pkl', 'wb') as file:\n",
    "        pickle.dump(clf, file)\n",
    "    \n",
    "    with open('svm_model.pkl', 'rb') as file:\n",
    "        loaded_model = pickle.load(file)\n",
    "    \n",
    "    # Predict labels for test data\n",
    "    y_pred = loaded_model.predict(X_test_tfidf)\n",
    "    \n",
    "    # Print classification report\n",
    "    report = classification_report(y_test, y_pred, output_dict=True)\n",
    "    print(\"Classification Report:\", report)\n",
    "    \n",
    "    # Store measurements in dictionary\n",
    "    measurement[\"train\"] = end_train - start_train\n",
    "    measurement[\"predict\"] = end_predict - start_predict\n",
    "    measurement[\"report\"] = report\n",
    "    measurement[\"accuracy\"] = report['accuracy']\n",
    "    \n",
    "    # Append dictionary to measurements list\n",
    "    measurements.append(measurement)"
   ],
   "id": "b4d12175cdf8963c",
   "outputs": [],
   "execution_count": 50
  },
  {
   "cell_type": "markdown",
   "source": [
    "- Load all data files matching 'data/datasets/train-00000-5k*.parquet'.\n",
    "- For each file loaded, merge the latest data file with the merged data to date,\n",
    "- and call the learn function with the dataframe and the index of the file in the list of files."
   ],
   "metadata": {
    "collapsed": false
   },
   "id": "253ea4a44fe883e3"
  },
  {
   "metadata": {
    "ExecuteTime": {
     "end_time": "2024-09-09T04:07:25.096846Z",
     "start_time": "2024-09-09T03:50:24.449569Z"
    }
   },
   "cell_type": "code",
   "source": [
    "import glob\n",
    "import pandas as pd\n",
    "\n",
    "# Load all data files matching the pattern\n",
    "files = glob.glob('data/datasets/train-00000-5k*.parquet')\n",
    "\n",
    "# Initialize merged data\n",
    "merged_data = pd.DataFrame()\n",
    "\n",
    "# Perform for 3 rounds\n",
    "for i in range(3):\n",
    "    # Load data files up to current index\n",
    "    data_files = files[:i+1]\n",
    "    \n",
    "    # Load and merge data files\n",
    "    for file in data_files:\n",
    "        data = pd.read_parquet(file)\n",
    "        merged_data = pd.concat([merged_data, data], ignore_index=True)\n",
    "    \n",
    "    # Call learn function with merged data and index\n",
    "    learn(merged_data, i)\n"
   ],
   "id": "55977224eceb3352",
   "outputs": [
    {
     "name": "stdout",
     "output_type": "stream",
     "text": [
      "Round: 0\n"
     ]
    },
    {
     "name": "stderr",
     "output_type": "stream",
     "text": [
      "/Users/aseemkhandelwal/PycharmProjects/AI-Tools/Week2/project2/venv/lib/python3.12/site-packages/sklearn/metrics/_classification.py:1531: UndefinedMetricWarning: Precision is ill-defined and being set to 0.0 in labels with no predicted samples. Use `zero_division` parameter to control this behavior.\n",
      "  _warn_prf(average, modifier, f\"{metric.capitalize()} is\", len(result))\n",
      "/Users/aseemkhandelwal/PycharmProjects/AI-Tools/Week2/project2/venv/lib/python3.12/site-packages/sklearn/metrics/_classification.py:1531: UndefinedMetricWarning: Precision is ill-defined and being set to 0.0 in labels with no predicted samples. Use `zero_division` parameter to control this behavior.\n",
      "  _warn_prf(average, modifier, f\"{metric.capitalize()} is\", len(result))\n",
      "/Users/aseemkhandelwal/PycharmProjects/AI-Tools/Week2/project2/venv/lib/python3.12/site-packages/sklearn/metrics/_classification.py:1531: UndefinedMetricWarning: Precision is ill-defined and being set to 0.0 in labels with no predicted samples. Use `zero_division` parameter to control this behavior.\n",
      "  _warn_prf(average, modifier, f\"{metric.capitalize()} is\", len(result))\n"
     ]
    },
    {
     "name": "stdout",
     "output_type": "stream",
     "text": [
      "Classification Report: {'C': {'precision': 0.6489795918367347, 'recall': 0.9695121951219512, 'f1-score': 0.7775061124694377, 'support': 164.0}, 'C#': {'precision': 0.9491525423728814, 'recall': 0.9032258064516129, 'f1-score': 0.9256198347107438, 'support': 62.0}, 'C++': {'precision': 0.96, 'recall': 0.3116883116883117, 'f1-score': 0.47058823529411764, 'support': 77.0}, 'CMake': {'precision': 0.0, 'recall': 0.0, 'f1-score': 0.0, 'support': 1.0}, 'CSS': {'precision': 1.0, 'recall': 0.6842105263157895, 'f1-score': 0.8125, 'support': 19.0}, 'Dockerfile': {'precision': 0.0, 'recall': 0.0, 'f1-score': 0.0, 'support': 3.0}, 'GO': {'precision': 0.8823529411764706, 'recall': 0.6818181818181818, 'f1-score': 0.7692307692307693, 'support': 22.0}, 'HTML': {'precision': 0.9324324324324325, 'recall': 0.8313253012048193, 'f1-score': 0.8789808917197452, 'support': 83.0}, 'Haskell': {'precision': 0.0, 'recall': 0.0, 'f1-score': 0.0, 'support': 5.0}, 'Java': {'precision': 0.8794326241134752, 'recall': 0.992, 'f1-score': 0.9323308270676691, 'support': 125.0}, 'JavaScript': {'precision': 0.6134020618556701, 'recall': 0.9296875, 'f1-score': 0.7391304347826086, 'support': 128.0}, 'Makefile': {'precision': 0.0, 'recall': 0.0, 'f1-score': 0.0, 'support': 7.0}, 'Markdown': {'precision': 0.7169811320754716, 'recall': 0.6229508196721312, 'f1-score': 0.6666666666666666, 'support': 61.0}, 'PHP': {'precision': 0.9340659340659341, 'recall': 0.8854166666666666, 'f1-score': 0.9090909090909091, 'support': 96.0}, 'Perl': {'precision': 0.0, 'recall': 0.0, 'f1-score': 0.0, 'support': 1.0}, 'PowerShell': {'precision': 0.0, 'recall': 0.0, 'f1-score': 0.0, 'support': 1.0}, 'Python': {'precision': 0.9722222222222222, 'recall': 0.7291666666666666, 'f1-score': 0.8333333333333334, 'support': 48.0}, 'Ruby': {'precision': 0.9777777777777777, 'recall': 0.8461538461538461, 'f1-score': 0.9072164948453608, 'support': 52.0}, 'Rust': {'precision': 0.0, 'recall': 0.0, 'f1-score': 0.0, 'support': 5.0}, 'SQL': {'precision': 0.0, 'recall': 0.0, 'f1-score': 0.0, 'support': 7.0}, 'Scala': {'precision': 0.0, 'recall': 0.0, 'f1-score': 0.0, 'support': 5.0}, 'Shell': {'precision': 0.0, 'recall': 0.0, 'f1-score': 0.0, 'support': 8.0}, 'TypeScript': {'precision': 0.8571428571428571, 'recall': 0.375, 'f1-score': 0.5217391304347826, 'support': 16.0}, 'Visual Basic': {'precision': 0.0, 'recall': 0.0, 'f1-score': 0.0, 'support': 4.0}, 'accuracy': 0.787, 'macro avg': {'precision': 0.47183092154466366, 'recall': 0.4067564925733324, 'f1-score': 0.42266390165192264, 'support': 1000.0}, 'weighted avg': {'precision': 0.7880798847701577, 'recall': 0.787, 'f1-score': 0.7610632440444586, 'support': 1000.0}}\n",
      "Round: 1\n"
     ]
    },
    {
     "name": "stderr",
     "output_type": "stream",
     "text": [
      "/Users/aseemkhandelwal/PycharmProjects/AI-Tools/Week2/project2/venv/lib/python3.12/site-packages/sklearn/metrics/_classification.py:1531: UndefinedMetricWarning: Precision is ill-defined and being set to 0.0 in labels with no predicted samples. Use `zero_division` parameter to control this behavior.\n",
      "  _warn_prf(average, modifier, f\"{metric.capitalize()} is\", len(result))\n",
      "/Users/aseemkhandelwal/PycharmProjects/AI-Tools/Week2/project2/venv/lib/python3.12/site-packages/sklearn/metrics/_classification.py:1531: UndefinedMetricWarning: Precision is ill-defined and being set to 0.0 in labels with no predicted samples. Use `zero_division` parameter to control this behavior.\n",
      "  _warn_prf(average, modifier, f\"{metric.capitalize()} is\", len(result))\n",
      "/Users/aseemkhandelwal/PycharmProjects/AI-Tools/Week2/project2/venv/lib/python3.12/site-packages/sklearn/metrics/_classification.py:1531: UndefinedMetricWarning: Precision is ill-defined and being set to 0.0 in labels with no predicted samples. Use `zero_division` parameter to control this behavior.\n",
      "  _warn_prf(average, modifier, f\"{metric.capitalize()} is\", len(result))\n"
     ]
    },
    {
     "name": "stdout",
     "output_type": "stream",
     "text": [
      "Classification Report: {'Assembly': {'precision': 1.0, 'recall': 0.5, 'f1-score': 0.6666666666666666, 'support': 2.0}, 'Batchfile': {'precision': 1.0, 'recall': 0.25, 'f1-score': 0.4, 'support': 8.0}, 'C': {'precision': 0.8786407766990292, 'recall': 0.9757412398921833, 'f1-score': 0.9246487867177522, 'support': 371.0}, 'C#': {'precision': 1.0, 'recall': 0.9111111111111111, 'f1-score': 0.9534883720930233, 'support': 180.0}, 'C++': {'precision': 0.9627329192546584, 'recall': 0.842391304347826, 'f1-score': 0.8985507246376812, 'support': 184.0}, 'CMake': {'precision': 1.0, 'recall': 0.3333333333333333, 'f1-score': 0.5, 'support': 6.0}, 'CSS': {'precision': 0.98, 'recall': 0.9423076923076923, 'f1-score': 0.9607843137254902, 'support': 52.0}, 'Dockerfile': {'precision': 1.0, 'recall': 0.5, 'f1-score': 0.6666666666666666, 'support': 2.0}, 'FORTRAN': {'precision': 1.0, 'recall': 1.0, 'f1-score': 1.0, 'support': 1.0}, 'GO': {'precision': 0.9838709677419355, 'recall': 0.8970588235294118, 'f1-score': 0.9384615384615385, 'support': 68.0}, 'HTML': {'precision': 0.9575289575289575, 'recall': 0.9612403100775194, 'f1-score': 0.9593810444874274, 'support': 258.0}, 'Haskell': {'precision': 0.0, 'recall': 0.0, 'f1-score': 0.0, 'support': 9.0}, 'Java': {'precision': 0.9272727272727272, 'recall': 0.998220640569395, 'f1-score': 0.961439588688946, 'support': 562.0}, 'JavaScript': {'precision': 0.901840490797546, 'recall': 0.9735099337748344, 'f1-score': 0.9363057324840764, 'support': 302.0}, 'Julia': {'precision': 0.0, 'recall': 0.0, 'f1-score': 0.0, 'support': 1.0}, 'Lua': {'precision': 1.0, 'recall': 0.6666666666666666, 'f1-score': 0.8, 'support': 3.0}, 'Makefile': {'precision': 1.0, 'recall': 0.625, 'f1-score': 0.7692307692307693, 'support': 16.0}, 'Markdown': {'precision': 0.8401639344262295, 'recall': 0.9447004608294931, 'f1-score': 0.8893709327548807, 'support': 217.0}, 'PHP': {'precision': 0.9817518248175182, 'recall': 0.9539007092198581, 'f1-score': 0.9676258992805755, 'support': 282.0}, 'Perl': {'precision': 1.0, 'recall': 0.4166666666666667, 'f1-score': 0.5882352941176471, 'support': 12.0}, 'PowerShell': {'precision': 1.0, 'recall': 0.6666666666666666, 'f1-score': 0.8, 'support': 3.0}, 'Python': {'precision': 0.9872611464968153, 'recall': 0.9337349397590361, 'f1-score': 0.9597523219814241, 'support': 166.0}, 'Ruby': {'precision': 0.9642857142857143, 'recall': 0.9926470588235294, 'f1-score': 0.9782608695652174, 'support': 136.0}, 'Rust': {'precision': 1.0, 'recall': 0.8333333333333334, 'f1-score': 0.9090909090909091, 'support': 12.0}, 'SQL': {'precision': 1.0, 'recall': 0.7692307692307693, 'f1-score': 0.8695652173913043, 'support': 13.0}, 'Scala': {'precision': 1.0, 'recall': 0.6363636363636364, 'f1-score': 0.7777777777777778, 'support': 22.0}, 'Shell': {'precision': 0.84, 'recall': 0.7, 'f1-score': 0.7636363636363637, 'support': 30.0}, 'TeX': {'precision': 0.0, 'recall': 0.0, 'f1-score': 0.0, 'support': 3.0}, 'TypeScript': {'precision': 1.0, 'recall': 0.7571428571428571, 'f1-score': 0.8617886178861789, 'support': 70.0}, 'Visual Basic': {'precision': 1.0, 'recall': 0.8888888888888888, 'f1-score': 0.9411764705882353, 'support': 9.0}, 'accuracy': 0.9333333333333333, 'macro avg': {'precision': 0.8735116486440376, 'recall': 0.6956619014178236, 'f1-score': 0.7547301625976852, 'support': 3000.0}, 'weighted avg': {'precision': 0.9333017263085371, 'recall': 0.9333333333333333, 'f1-score': 0.9292282577012679, 'support': 3000.0}}\n",
      "Round: 2\n",
      "Classification Report: {'Assembly': {'precision': 1.0, 'recall': 0.75, 'f1-score': 0.8571428571428571, 'support': 4.0}, 'Batchfile': {'precision': 1.0, 'recall': 0.6, 'f1-score': 0.75, 'support': 5.0}, 'C': {'precision': 0.9295454545454546, 'recall': 0.9915151515151515, 'f1-score': 0.9595307917888563, 'support': 825.0}, 'C#': {'precision': 0.9970760233918129, 'recall': 0.9798850574712644, 'f1-score': 0.9884057971014493, 'support': 348.0}, 'C++': {'precision': 0.9738372093023255, 'recall': 0.9005376344086021, 'f1-score': 0.9357541899441341, 'support': 372.0}, 'CMake': {'precision': 1.0, 'recall': 0.4444444444444444, 'f1-score': 0.6153846153846154, 'support': 9.0}, 'CSS': {'precision': 0.9772727272727273, 'recall': 0.945054945054945, 'f1-score': 0.9608938547486033, 'support': 91.0}, 'Dockerfile': {'precision': 1.0, 'recall': 0.75, 'f1-score': 0.8571428571428571, 'support': 4.0}, 'FORTRAN': {'precision': 1.0, 'recall': 0.6666666666666666, 'f1-score': 0.8, 'support': 6.0}, 'GO': {'precision': 0.9851851851851852, 'recall': 0.9568345323741008, 'f1-score': 0.9708029197080292, 'support': 139.0}, 'HTML': {'precision': 0.9763779527559056, 'recall': 0.9880478087649402, 'f1-score': 0.9821782178217822, 'support': 502.0}, 'Haskell': {'precision': 1.0, 'recall': 0.7058823529411765, 'f1-score': 0.8275862068965517, 'support': 17.0}, 'Java': {'precision': 0.9866310160427807, 'recall': 0.9981965734896303, 'f1-score': 0.9923800986104886, 'support': 1109.0}, 'JavaScript': {'precision': 0.9312, 'recall': 0.9781512605042016, 'f1-score': 0.9540983606557377, 'support': 595.0}, 'Julia': {'precision': 1.0, 'recall': 0.5, 'f1-score': 0.6666666666666666, 'support': 2.0}, 'Lua': {'precision': 1.0, 'recall': 0.5555555555555556, 'f1-score': 0.7142857142857143, 'support': 9.0}, 'Makefile': {'precision': 1.0, 'recall': 0.8571428571428571, 'f1-score': 0.9230769230769231, 'support': 28.0}, 'Markdown': {'precision': 0.9293598233995585, 'recall': 0.9611872146118722, 'f1-score': 0.9450056116722784, 'support': 438.0}, 'PHP': {'precision': 0.994263862332696, 'recall': 0.9811320754716981, 'f1-score': 0.9876543209876543, 'support': 530.0}, 'Perl': {'precision': 1.0, 'recall': 0.7777777777777778, 'f1-score': 0.875, 'support': 27.0}, 'PowerShell': {'precision': 1.0, 'recall': 0.7, 'f1-score': 0.8235294117647058, 'support': 10.0}, 'Python': {'precision': 0.9722991689750693, 'recall': 0.975, 'f1-score': 0.9736477115117892, 'support': 360.0}, 'Ruby': {'precision': 0.9876543209876543, 'recall': 0.9836065573770492, 'f1-score': 0.9856262833675564, 'support': 244.0}, 'Rust': {'precision': 1.0, 'recall': 0.9655172413793104, 'f1-score': 0.9824561403508771, 'support': 29.0}, 'SQL': {'precision': 1.0, 'recall': 0.967741935483871, 'f1-score': 0.9836065573770492, 'support': 31.0}, 'Scala': {'precision': 0.98, 'recall': 0.875, 'f1-score': 0.9245283018867925, 'support': 56.0}, 'Shell': {'precision': 0.96875, 'recall': 0.8611111111111112, 'f1-score': 0.9117647058823529, 'support': 72.0}, 'TeX': {'precision': 1.0, 'recall': 0.42857142857142855, 'f1-score': 0.6, 'support': 7.0}, 'TypeScript': {'precision': 0.9611650485436893, 'recall': 0.825, 'f1-score': 0.8878923766816144, 'support': 120.0}, 'Visual Basic': {'precision': 1.0, 'recall': 1.0, 'f1-score': 1.0, 'support': 11.0}, 'accuracy': 0.9665, 'macro avg': {'precision': 0.9850205930911621, 'recall': 0.8289853394039217, 'f1-score': 0.8878680497485977, 'support': 6000.0}, 'weighted avg': {'precision': 0.9673969327768123, 'recall': 0.9665, 'f1-score': 0.9657270109056401, 'support': 6000.0}}\n"
     ]
    }
   ],
   "execution_count": 51
  },
  {
   "cell_type": "markdown",
   "source": [
    "- If I have measurements in Python like a list of dictionaries such as:\n",
    "- `[{'round': 0, 'train': 32.76, 'predict': 2.13, 'accuracy': 0.78},....]`\n",
    "- let us plot lines on the same graph for tfidf, train, predict and accuracy using python?  Use matplotlib.\n",
    "- Add a legend.  Add axis labels.  Add a title.\n",
    "- Let us show the plot in this notebook below."
   ],
   "metadata": {
    "collapsed": false
   },
   "id": "c4a0ad45841dd61a"
  },
  {
   "metadata": {
    "ExecuteTime": {
     "end_time": "2024-09-09T04:07:32.146792Z",
     "start_time": "2024-09-09T04:07:32.025235Z"
    }
   },
   "cell_type": "code",
   "source": [
    "\n",
    "import matplotlib.pyplot as plt\n",
    "\n",
    "# List of measurements\n",
    "measurements = [{'round': 0, 'train': 32.76, 'predict': 2.13, 'accuracy': 0.78},\n",
    "                {'round': 1, 'train': 28.45, 'predict': 1.98, 'accuracy': 0.82},\n",
    "                {'round': 2, 'train': 25.67, 'predict': 1.85, 'accuracy': 0.87}]\n",
    "\n",
    "# Multiply accuracy by 100 and round to 2 decimal places\n",
    "for measurement in measurements:\n",
    "    measurement['accuracy'] = round(measurement['accuracy'] * 100, 2)\n",
    "\n",
    "# Extract data for plotting\n",
    "rounds = [m['round'] for m in measurements]\n",
    "train_times = [m['train'] for m in measurements]\n",
    "predict_times = [m['predict'] for m in measurements]\n",
    "accuracies = [m['accuracy'] for m in measurements]\n",
    "\n",
    "# Plot lines on the same graph\n",
    "plt.plot(rounds, train_times, label='Train Time')\n",
    "plt.plot(rounds, predict_times, label='Predict Time')\n",
    "plt.plot(rounds, accuracies, label='Accuracy')\n",
    "\n",
    "# Add legend, axis labels, and title\n",
    "plt.legend()\n",
    "plt.xlabel('Round')\n",
    "plt.ylabel('Time (s) / Accuracy (%)')\n",
    "plt.title('Performance Metrics Over Rounds')\n",
    "\n",
    "# Show the plot\n",
    "plt.show()"
   ],
   "id": "b3854f009b8b794",
   "outputs": [
    {
     "data": {
      "text/plain": [
       "<Figure size 640x480 with 1 Axes>"
      ],
      "image/png": "[encoded data removed]"
     },
     "metadata": {},
     "output_type": "display_data"
    }
   ],
   "execution_count": 52
  }
 ],
 "metadata": {
  "kernelspec": {
   "display_name": "Python 3",
   "language": "python",
   "name": "python3"
  },
  "language_info": {
   "codemirror_mode": {
    "name": "ipython",
    "version": 2
   },
   "file_extension": ".py",
   "mimetype": "text/x-python",
   "name": "python",
   "nbconvert_exporter": "python",
   "pygments_lexer": "ipython2",
   "version": "2.7.6"
  }
 },
 "nbformat": 4,
 "nbformat_minor": 5
}
