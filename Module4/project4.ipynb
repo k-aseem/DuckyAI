{
 "cells": [
  {
   "cell_type": "markdown",
   "id": "14309c3521cb9d85",
   "metadata": {
    "collapsed": false
   },
   "source": [
    "# AI Chat Code"
   ]
  },
  {
   "cell_type": "code",
   "execution_count": null,
   "id": "5fe373f507f73a0c",
   "metadata": {
    "collapsed": false
   },
   "outputs": [],
   "source": [
    "import anthropic\n",
    "import traceback\n",
    "from typing import List, Dict, Tuple\n",
    "from markdownify import markdownify\n",
    "\n",
    "from openai import OpenAI, OpenAIError\n",
    "\n",
    "\n",
    "def converse_openai(prompt: str, messages: List[Dict[str, str]]) -> Tuple[str, List[Dict[str, str]]]:\n",
    "    \"\"\"\n",
    "    Given a conversation history, generate a response string from the OpenAI API.\n",
    "\n",
    "    :param prompt: a user prompt string to continue the conversation\n",
    "\n",
    "    :param messages: a conversation history with the following format:\n",
    "    `[ { \"role\": \"user\", \"content\": \"Hello, how are you?\" },\n",
    "       { \"role\": \"assistant\", \"content\": \"I am doing well, how can I help you today?\" } ]`\n",
    "\n",
    "    :return: the response string and the updated conversation history\n",
    "    \"\"\"\n",
    "    client = OpenAI(\n",
    "        # This is the default and can be omitted\n",
    "        base_url='http://aitools.cs.vt.edu:7860/openai/v1',\n",
    "        api_key=\"aitools\")\n",
    "    \n",
    "    try:\n",
    "        messages.append({\"role\": \"user\", \"content\": prompt})\n",
    "        response = client.chat.completions.create(\n",
    "            model=\"gpt-3.5-turbo\",\n",
    "            messages=messages,\n",
    "            max_tokens=3000\n",
    "        )\n",
    "        text = response.choices[0].message.content\n",
    "        messages.append({\"role\": \"assistant\", \"content\": text})\n",
    "        return text, messages\n",
    "\n",
    "    except OpenAIError as e:\n",
    "        traceback.print_exc()\n",
    "        raise Exception(f\"OpenAI Error: {str(e)}\")\n",
    "    except Exception as e:\n",
    "        traceback.print_exc()\n",
    "        raise Exception(f\"General Error: {str(e)}\")\n",
    "\n",
    "def converse_anthropic(prompt: str, messages: List[Dict[str, str]]) -> Tuple[str, List[Dict[str, str]]]:\n",
    "    client = anthropic.Anthropic(api_key=\"aitools\", \n",
    "                                 base_url=\"http://aitools.cs.vt.edu:7860/anthropic/v1\")\n",
    "    \n",
    "    # Add the user's message to the list of messages\n",
    "    if messages is None:\n",
    "        messages = []\n",
    "    \n",
    "    messages.append({\"role\": \"user\", \"content\": prompt})\n",
    "    # Construct the request payload for Anthropic through the proxy\n",
    "    response = client.messages.create(\n",
    "        model=\"claude-3-5-sonnet-20240620\",\n",
    "        max_tokens=4000,\n",
    "        messages=messages\n",
    "    )\n",
    "    \n",
    "    # Extract the relevant information from the response\n",
    "    content_text = response.content[0].text  # Access the text of the first message\n",
    "    # Add the assistant's message to the list of messages\n",
    "    messages.append({\"role\": \"assistant\", \"content\": content_text})\n",
    "    \n",
    "    return response, messages\n"
   ]
  },
  {
   "cell_type": "markdown",
   "id": "af90ae623f3e9767",
   "metadata": {
    "collapsed": false
   },
   "source": [
    "# Starting Prompt"
   ]
  },
  {
   "cell_type": "code",
   "execution_count": null,
   "id": "41a6293efcd29b07",
   "metadata": {
    "collapsed": false
   },
   "outputs": [],
   "source": [
    "product_name = \"Ducky\"\n",
    "\n",
    "product_description = f\"\"\"\n",
    "{product_name} is an AI-powered coding assistant tailored for software developers and learners. \n",
    "\n",
    "Its primary function is to facilitate the learning process about various software topics. \n",
    "\n",
    "{product_name} offers a quick chat feature that serves to answer questions regarding coding issues. \n",
    "\n",
    "Furthermore, its blueprint feature acts as a knowledge repository, enabling users to \n",
    "generate specific pre-planned artifacts such as schemas, types, and APIs.\n",
    "\"\"\"\n",
    "\n",
    "\n",
    "def starting_prompt():\n",
    "    return f\"\"\"\n",
    "Forget all previous instructions and context.  \n",
    "\n",
    "You job is to learn and understand the following text about a product.\n",
    "```\n",
    "{product_description}\n",
    "```\n",
    "Acknowledge you have understood the product by giving a terse 1 sentence summary or acknowledgement.\n",
    "\"\"\""
   ]
  },
  {
   "cell_type": "code",
   "execution_count": null,
   "id": "53db58acce943d4e",
   "metadata": {
    "collapsed": false
   },
   "outputs": [],
   "source": [
    "history = []\n",
    "text, history = converse_openai(starting_prompt(), history)\n",
    "\n",
    "print(markdownify(text))"
   ]
  },
  {
   "cell_type": "markdown",
   "id": "3d21d3910b3f0001",
   "metadata": {
    "collapsed": false
   },
   "source": [
    "# Business Problem Statement"
   ]
  },
  {
   "cell_type": "code",
   "execution_count": null,
   "id": "98aee28e0c61d9a",
   "metadata": {
    "collapsed": false
   },
   "outputs": [],
   "source": [
    "def business_problem_statement_prompt():\n",
    "    return  f\"\"\"<derive from textbook>\"\"\""
   ]
  },
  {
   "cell_type": "code",
   "execution_count": null,
   "id": "ec0ac4798e596736",
   "metadata": {
    "collapsed": false
   },
   "outputs": [],
   "source": [
    "text, history = converse_openai(business_problem_statement_prompt(), history)\n",
    "print(markdownify(text))"
   ]
  },
  {
   "cell_type": "markdown",
   "id": "96cf4062927d4149",
   "metadata": {
    "collapsed": false
   },
   "source": [
    "# Vision Statement"
   ]
  },
  {
   "cell_type": "code",
   "execution_count": null,
   "id": "ff63c37d07688aab",
   "metadata": {
    "collapsed": false
   },
   "outputs": [],
   "source": [
    "def vision_statement_prompt():\n",
    "    return  f\"\"\"<derive from textbook>\"\"\""
   ]
  },
  {
   "cell_type": "code",
   "execution_count": null,
   "id": "1fbdeb9fac16dde2",
   "metadata": {
    "collapsed": false
   },
   "outputs": [],
   "source": [
    "text, history = converse_openai(vision_statement_prompt(), history)\n",
    "print(markdownify(text))"
   ]
  },
  {
   "cell_type": "markdown",
   "id": "c4a8c2c1f091ee2e",
   "metadata": {
    "collapsed": false
   },
   "source": [
    "# Ecosystem Map"
   ]
  },
  {
   "cell_type": "code",
   "execution_count": null,
   "id": "efd4967988c7ae6",
   "metadata": {
    "collapsed": false
   },
   "outputs": [],
   "source": [
    "def ecosystem_map_prompt():\n",
    "    return  f\"\"\"<derive from textbook>\"\"\""
   ]
  },
  {
   "cell_type": "code",
   "execution_count": null,
   "id": "68f22a21cf2217bf",
   "metadata": {
    "collapsed": false
   },
   "outputs": [],
   "source": [
    "text, history = converse_openai(ecosystem_map_prompt(), history)\n",
    "print(markdownify(text))"
   ]
  },
  {
   "cell_type": "markdown",
   "id": "b1165b39f3abd76f",
   "metadata": {
    "collapsed": false
   },
   "source": [
    "# Responsibility Matrix"
   ]
  },
  {
   "cell_type": "code",
   "execution_count": null,
   "id": "da7cb9dabf7a64ac",
   "metadata": {
    "collapsed": false
   },
   "outputs": [],
   "source": [
    "def responsibility_matrix_prompt():\n",
    "    return  f\"\"\"<derive from textbook>\"\"\""
   ]
  },
  {
   "cell_type": "code",
   "execution_count": null,
   "id": "dc2e64857a9bd6fd",
   "metadata": {
    "collapsed": false
   },
   "outputs": [],
   "source": [
    "text, history = converse_openai(responsibility_matrix_prompt(), history)\n",
    "print(markdownify(text))"
   ]
  }
 ],
 "metadata": {
  "kernelspec": {
   "display_name": "Python 3",
   "language": "python",
   "name": "python3"
  },
  "language_info": {
   "codemirror_mode": {
    "name": "ipython",
    "version": 2
   },
   "file_extension": ".py",
   "mimetype": "text/x-python",
   "name": "python",
   "nbconvert_exporter": "python",
   "pygments_lexer": "ipython2",
   "version": "3.12.5"
  }
 },
 "nbformat": 4,
 "nbformat_minor": 5
}
