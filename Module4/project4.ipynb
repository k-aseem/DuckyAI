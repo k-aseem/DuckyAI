{
 "cells": [
  {
   "cell_type": "markdown",
   "id": "14309c3521cb9d85",
   "metadata": {
    "collapsed": false
   },
   "source": [
    "# AI Chat Code"
   ]
  },
  {
   "cell_type": "code",
   "execution_count": 192,
   "id": "5fe373f507f73a0c",
   "metadata": {
    "collapsed": false
   },
   "outputs": [],
   "source": [
    "import anthropic\n",
    "import traceback\n",
    "from typing import List, Dict, Tuple\n",
    "from markdownify import markdownify\n",
    "\n",
    "from openai import OpenAI, OpenAIError\n",
    "\n",
    "\n",
    "def converse_openai(prompt: str, messages: List[Dict[str, str]]) -> Tuple[str, List[Dict[str, str]]]:\n",
    "    \"\"\"\n",
    "    Given a conversation history, generate a response string from the OpenAI API.\n",
    "\n",
    "    :param prompt: a user prompt string to continue the conversation\n",
    "\n",
    "    :param messages: a conversation history with the following format:\n",
    "    `[ { \"role\": \"user\", \"content\": \"Hello, how are you?\" },\n",
    "       { \"role\": \"assistant\", \"content\": \"I am doing well, how can I help you today?\" } ]`\n",
    "\n",
    "    :return: the response string and the updated conversation history\n",
    "    \"\"\"\n",
    "    client = OpenAI(\n",
    "        # This is the default and can be omitted\n",
    "        base_url='http://aitools.cs.vt.edu:7860/openai/v1',\n",
    "        api_key=\"aitools\")\n",
    "    \n",
    "    try:\n",
    "        messages.append({\"role\": \"user\", \"content\": prompt})\n",
    "        response = client.chat.completions.create(\n",
    "            model=\"gpt-3.5-turbo\",\n",
    "            messages=messages,\n",
    "            max_tokens=3000\n",
    "        )\n",
    "        text = response.choices[0].message.content\n",
    "        messages.append({\"role\": \"assistant\", \"content\": text})\n",
    "        return text, messages\n",
    "\n",
    "    except OpenAIError as e:\n",
    "        traceback.print_exc()\n",
    "        raise Exception(f\"OpenAI Error: {str(e)}\")\n",
    "    except Exception as e:\n",
    "        traceback.print_exc()\n",
    "        raise Exception(f\"General Error: {str(e)}\")\n",
    "\n",
    "def converse_anthropic(prompt: str, messages: List[Dict[str, str]]) -> Tuple[str, List[Dict[str, str]]]:\n",
    "    client = anthropic.Anthropic(api_key=\"aitools\", \n",
    "                                 base_url=\"http://aitools.cs.vt.edu:7860/anthropic/v1\")\n",
    "    \n",
    "    # Add the user's message to the list of messages\n",
    "    if messages is None:\n",
    "        messages = []\n",
    "    \n",
    "    messages.append({\"role\": \"user\", \"content\": prompt})\n",
    "    # Construct the request payload for Anthropic through the proxy\n",
    "    response = client.messages.create(\n",
    "        model=\"claude-3-5-sonnet-20240620\",\n",
    "        max_tokens=4000,\n",
    "        messages=messages\n",
    "    )\n",
    "    \n",
    "    # Extract the relevant information from the response\n",
    "    content_text = response.content[0].text  # Access the text of the first message\n",
    "    # Add the assistant's message to the list of messages\n",
    "    messages.append({\"role\": \"assistant\", \"content\": content_text})\n",
    "    \n",
    "    return response, messages\n"
   ]
  },
  {
   "cell_type": "markdown",
   "id": "af90ae623f3e9767",
   "metadata": {
    "collapsed": false
   },
   "source": [
    "# Starting Prompt"
   ]
  },
  {
   "cell_type": "code",
   "execution_count": 234,
   "id": "41a6293efcd29b07",
   "metadata": {
    "collapsed": false
   },
   "outputs": [],
   "source": [
    "product_name = \"Ducky\"\n",
    "\n",
    "product_description = f\"\"\"\n",
    "{product_name} is an AI-powered coding assistant tailored for software developers and learners. \n",
    "\n",
    "Its primary function is to facilitate the learning process about various software topics. \n",
    "\n",
    "{product_name} offers a quick chat feature that serves to answer questions regarding coding issues. \n",
    "\n",
    "Furthermore, its blueprint feature acts as a knowledge repository, enabling users to \n",
    "generate specific pre-planned artifacts such as schemas, types, and APIs.\n",
    "\"\"\"\n",
    "\n",
    "\n",
    "def starting_prompt():\n",
    "    return f\"\"\"\n",
    "Forget all previous instructions and context.  \n",
    "\n",
    "You job is to learn and understand the following text about a product.\n",
    "```\n",
    "{product_description}\n",
    "```\n",
    "Acknowledge you have understood the product by giving a terse 1 sentence summary or acknowledgement.\n",
    "\"\"\""
   ]
  },
  {
   "cell_type": "code",
   "execution_count": 235,
   "id": "53db58acce943d4e",
   "metadata": {
    "collapsed": false
   },
   "outputs": [
    {
     "name": "stdout",
     "output_type": "stream",
     "text": [
      "I understand that Ducky is an AI-powered coding assistant that helps software developers and learners with learning about software topics through a chat feature and a blueprint feature for generating artifacts.\n"
     ]
    }
   ],
   "source": [
    "history = []\n",
    "text, history = converse_openai(starting_prompt(), history)\n",
    "\n",
    "print(markdownify(text))"
   ]
  },
  {
   "cell_type": "markdown",
   "id": "3d21d3910b3f0001",
   "metadata": {
    "collapsed": false
   },
   "source": [
    "# Business Problem Statement"
   ]
  },
  {
   "cell_type": "code",
   "execution_count": 236,
   "id": "98aee28e0c61d9a",
   "metadata": {
    "collapsed": false
   },
   "outputs": [],
   "source": [
    "def business_problem_statement_prompt():\n",
    "    return  f\"\"\"\n",
    "    Given the product description, I want you to generate a business problem statement that the product is trying to solve.\n",
    "\n",
    "    I am providing 5 section headers and general content for your response as follows:\n",
    "    - Situation: Software developers might struggles with learning new concepts. Describe the background, context, and environment.\n",
    "    - Problem: The learning resources are scattered and not easily accessible. Difficult to piece together the information.\n",
    "    - Implication: Developers might spend more time searching for information than actually learning. Describe the likely results if the problem isn’t solved.\n",
    "    - Benefit: {product_name} aims to provide a centralized platform for learning and knowledge sharing. State the business value of solving the problem.\n",
    "    - Vision: To create a seamless learning experience for developers and learners. Describe what the desired future state would look like.\n",
    "\n",
    "    Provide output as formatted html.\n",
    "    \"\"\"\n",
    "# Provide output as ASCII text with no formatting.\n",
    "\n",
    "text, history = converse_openai(business_problem_statement_prompt(), history)\n"
   ]
  },
  {
   "cell_type": "markdown",
   "id": "d6f591bc",
   "metadata": {},
   "source": [
    "### Output Document"
   ]
  },
  {
   "cell_type": "code",
   "execution_count": 237,
   "id": "ec0ac4798e596736",
   "metadata": {
    "collapsed": false
   },
   "outputs": [
    {
     "name": "stdout",
     "output_type": "stream",
     "text": [
      "Certainly! Here's a description of Ducky following the provided template:\n",
      "\n",
      "---\n",
      "\n",
      "**Situation**\n",
      "\n",
      "In the realm of software development, individuals often encounter challenges when learning new concepts and gathering information across diverse software topics. The abundance of learning resources available can be overwhelming and inefficient to navigate, hindering the learning process.\n",
      "\n",
      "**Problem**\n",
      "\n",
      "Software developers struggle with accessing scattered learning resources and piecing together information effectively, resulting in a disjointed learning experience. The absence of a centralized platform for learning and knowledge sharing exacerbates this issue.\n",
      "\n",
      "**Implication**\n",
      "\n",
      "Without a solution, developers may spend excessive time searching for information rather than actively learning, leading to decreased productivity and learning efficiency. This inefficiency could hinder skill development and potentially impact project timelines and quality.\n",
      "\n",
      "**Benefit**\n",
      "\n",
      "Ducky aims to provide a solution by offering a centralized platform for developers to access comprehensive learning resources, receive quick answers to coding queries, and generate specific artifacts like schemas and APIs. This approach enhances learning experiences, boosts productivity, and fosters skill development in software development.\n",
      "\n",
      "**Vision**\n",
      "\n",
      "Picture a future where developers and learners have a seamless learning experience facilitated by Ducky, an AI-powered coding assistant. Users can easily navigate through various software topics, receive instant support for coding issues, and create essential artifacts to streamline their development processes. Ducky envisions empowering users with knowledge and tools for continuous learning and growth in the software development field.\n",
      "\n",
      "---\n"
     ]
    }
   ],
   "source": [
    "prompt = \"\"\"\n",
    "I want following format for response:\n",
    "\n",
    "Certainly! Here's a description of FinFriend following the provided template:\n",
    "\n",
    "---\n",
    "\n",
    "**Situation**\n",
    "\n",
    "In our modern, fast-paced world, individuals face a multitude of financial challenges and opportunities. From navigating personal debts to understanding investment opportunities, many lack the expertise or resources to make informed financial decisions. While there is a plethora of financial advice available online, discerning trustworthy guidance tailored to an individual's unique situation can be overwhelming.\n",
    "\n",
    "**Problem**\n",
    "\n",
    "The majority of individuals grapple with financial literacy, leading to uninformed decisions that could have significant long-term consequences. This lack of understanding is exacerbated by the absence of a unified platform that offers personalized, reliable, and user-friendly financial advice and document generation.\n",
    "\n",
    "**Implication**\n",
    "\n",
    "If left unaddressed, individuals will continue to navigate their financial futures with limited understanding, leading to missed opportunities, potential financial pitfalls, and a growing gap in financial literacy. This could lead to larger societal implications such as increased debt, reduced economic mobility, and a populace unequipped to handle financial downturns.\n",
    "\n",
    "**Benefit**\n",
    "\n",
    "By addressing this gap, FinFriend offers a platform that not only educates users but also empowers them to make informed decisions tailored to their unique financial situations. The business value lies in fostering a community of financially literate individuals, reducing the risks associated with poor financial decisions, and potentially unlocking greater economic prosperity for users.\n",
    "\n",
    "**Vision**\n",
    "\n",
    "Imagine a world where each individual, regardless of their background, has a personal financial assistant at their fingertips. This assistant, FinFriend, educates them on complex topics, answers their pressing questions in real-time, and even generates personalized financial documents like budgets or investment plans. Users are no longer left in the dark but are illuminated with knowledge and tools to craft their financial future confidently.\n",
    "\n",
    "---\n",
    "\n",
    "\"\"\"\n",
    "\n",
    "text, history = converse_openai(prompt, history)\n",
    "print(text)"
   ]
  },
  {
   "cell_type": "markdown",
   "id": "96cf4062927d4149",
   "metadata": {
    "collapsed": false
   },
   "source": [
    "# Vision Statement"
   ]
  },
  {
   "cell_type": "code",
   "execution_count": 228,
   "id": "79d566d9",
   "metadata": {},
   "outputs": [],
   "source": [
    "product_name = \"Ducky\"\n",
    "\n",
    "product_description = f\"\"\"\n",
    "{product_name} is an AI-powered coding assistant tailored for software developers and learners. \n",
    "\n",
    "Its primary function is to facilitate the learning process about various software topics. \n",
    "\n",
    "{product_name} offers a quick chat feature that serves to answer questions regarding coding issues. \n",
    "\n",
    "Furthermore, its blueprint feature acts as a knowledge repository, enabling users to \n",
    "generate specific pre-planned artifacts such as schemas, types, and APIs.\n",
    "\"\"\"\n",
    "\n",
    "\n",
    "def starting_prompt():\n",
    "    return f\"\"\"\n",
    "Forget all previous instructions and context.  \n",
    "\n",
    "You job is to learn and understand the following text about a product.\n",
    "```\n",
    "{product_description}\n",
    "```\n",
    "Acknowledge you have understood the product by giving a terse 1 sentence summary or acknowledgement.\n",
    "\"\"\""
   ]
  },
  {
   "cell_type": "code",
   "execution_count": 229,
   "id": "068bfc27",
   "metadata": {},
   "outputs": [
    {
     "name": "stdout",
     "output_type": "stream",
     "text": [
      "I have understood the product - Ducky is an AI-powered coding assistant designed to help software developers and learners by providing a chat feature for coding questions and a blueprint feature for generating specific artifacts.\n"
     ]
    }
   ],
   "source": [
    "history = []\n",
    "text, history = converse_openai(starting_prompt(), history)\n",
    "\n",
    "print(markdownify(text))"
   ]
  },
  {
   "cell_type": "code",
   "execution_count": 230,
   "id": "85745b82",
   "metadata": {},
   "outputs": [],
   "source": [
    "def vision_statement_prompt():\n",
    "    return  f\"\"\"\n",
    "    Generate a vision statement for the {product_name} product. \n",
    "    The vision statement articulates the essence of the problem, the nature of the proposed solution, its high-level features, and its core benefits for certain stakeholders.\n",
    "    Here is the template:\n",
    "    \n",
    "    For\n",
    "\n",
    "    [target customers]\n",
    "\n",
    "    Who\n",
    "\n",
    "    [statement of the business need or opportunity]\n",
    "\n",
    "    The\n",
    "\n",
    "    [name of the product or project]\n",
    "\n",
    "    Is\n",
    "\n",
    "    [type of product or project]\n",
    "\n",
    "    That\n",
    "\n",
    "    [major product capabilities; core benefits it will provide; compelling reason to buy the product or undertake the project]\n",
    "\n",
    "    Unlike\n",
    "\n",
    "    [current business reality, alternative products, or the competition]\n",
    "\n",
    "    Our product\n",
    "\n",
    "    [concise summary of the major advantages of this product over the current reality or the competition]\n",
    "\n",
    "    Provide output as formatted html.\n",
    "    \n",
    "    \"\"\""
   ]
  },
  {
   "cell_type": "code",
   "execution_count": 231,
   "id": "acfe87c5",
   "metadata": {},
   "outputs": [],
   "source": [
    "text, history = converse_openai(vision_statement_prompt(), history)"
   ]
  },
  {
   "cell_type": "markdown",
   "id": "cb1c4368",
   "metadata": {},
   "source": [
    "### Output Document"
   ]
  },
  {
   "cell_type": "code",
   "execution_count": 232,
   "id": "99ef2fae",
   "metadata": {},
   "outputs": [
    {
     "name": "stdout",
     "output_type": "stream",
     "text": [
      "Certainly! Here's a vision statement for Ducky based on the provided template:\n",
      "\n",
      "---\n",
      "\n",
      "**For**\n",
      "\n",
      "Software developers and learners looking to enhance their coding skills and knowledge,\n",
      "\n",
      "**Who**\n",
      "\n",
      "Seek an AI-powered coding assistant for quick support and resource generation,\n",
      "\n",
      "**The**\n",
      "\n",
      "Ducky\n",
      "\n",
      "**Is**\n",
      "\n",
      "An innovative AI-powered coding assistant \n",
      "\n",
      "**That**\n",
      "\n",
      "Facilitates learning on various software topics, provides quick chat support for coding issues, and a blueprint feature for generating specific artifacts like schemas, types, and APIs.\n",
      "\n",
      "**Unlike**\n",
      "\n",
      "Other coding assistance tools or resources,\n",
      "\n",
      "**Our product**\n",
      "\n",
      "Empowers users with advanced AI capabilities, comprehensive learning support, and efficient artifact generation, setting a new standard in coding assistance tools.\n",
      "\n",
      "---\n"
     ]
    }
   ],
   "source": [
    "prompt = f\"\"\"\n",
    "    I want following format for response.\n",
    "\n",
    "    Certainly! Here's a vision statement for FinFriend based on the provided template:\n",
    "\n",
    "    ---\n",
    "\n",
    "    **For**\n",
    "\n",
    "    Individuals seeking to navigate their financial futures confidently,\n",
    "\n",
    "    **Who**\n",
    "\n",
    "    Desire personalized, trustworthy, and user-friendly financial advice and document generation,\n",
    "\n",
    "    **The**\n",
    "\n",
    "    FinFriend\n",
    "\n",
    "    **Is**\n",
    "\n",
    "    A cutting-edge AI-powered personal finance assistant\n",
    "\n",
    "    **That**\n",
    "\n",
    "    Educates on complex financial topics, offers real-time financial guidance, and generates tailored financial documents to empower users in their financial decisions.\n",
    "\n",
    "    **Unlike**\n",
    "\n",
    "    Generic finance websites, overwhelming financial data platforms, and traditional financial consultation.\n",
    "\n",
    "    **Our product**\n",
    "\n",
    "    some text here related to it\n",
    "    \n",
    "    ---\n",
    "\n",
    "    This vision statement emphasizes FinFriend's unique AI-driven, personalized approach to financial literacy and decision-making, distinguishing it from other options available in the market.\n",
    "\"\"\"\n",
    "\n",
    "text, history = converse_openai(prompt, history)\n",
    "print(text)"
   ]
  },
  {
   "cell_type": "markdown",
   "id": "c4a8c2c1f091ee2e",
   "metadata": {
    "collapsed": false
   },
   "source": [
    "# Ecosystem Map"
   ]
  },
  {
   "cell_type": "code",
   "execution_count": 224,
   "id": "1ee2d89a",
   "metadata": {},
   "outputs": [],
   "source": [
    "product_name = \"Ducky\"\n",
    "\n",
    "product_description = f\"\"\"\n",
    "{product_name} is an AI-powered coding assistant tailored for software developers and learners. \n",
    "\n",
    "Its primary function is to facilitate the learning process about various software topics. \n",
    "\n",
    "{product_name} offers a quick chat feature that serves to answer questions regarding coding issues. \n",
    "\n",
    "Furthermore, its blueprint feature acts as a knowledge repository, enabling users to \n",
    "generate specific pre-planned artifacts such as schemas, types, and APIs.\n",
    "\"\"\"\n",
    "\n",
    "\n",
    "def starting_prompt():\n",
    "    return f\"\"\"\n",
    "Forget all previous instructions and context.  \n",
    "\n",
    "You job is to learn and understand the following text about a product.\n",
    "```\n",
    "{product_description}\n",
    "```\n",
    "Acknowledge you have understood the product by giving a terse 1 sentence summary or acknowledgement.\n",
    "\"\"\""
   ]
  },
  {
   "cell_type": "code",
   "execution_count": 225,
   "id": "7a0880c1",
   "metadata": {},
   "outputs": [
    {
     "name": "stdout",
     "output_type": "stream",
     "text": [
      "Ducky is an AI-powered coding assistant that helps software developers and learners by providing a quick chat feature for answering coding questions and a blueprint feature for generating specific artifacts.\n"
     ]
    }
   ],
   "source": [
    "history = []\n",
    "text, history = converse_openai(starting_prompt(), history)\n",
    "\n",
    "print(markdownify(text))"
   ]
  },
  {
   "cell_type": "code",
   "execution_count": 226,
   "id": "b3864d20",
   "metadata": {},
   "outputs": [],
   "source": [
    "def ecosystem_map_prompt():\n",
    "    return  f\"\"\"\n",
    "    Generate an ecosystem map as a formatted html for the {product_name} product.\n",
    "\n",
    "    To create an ecosystem map, first list the systems in your solution domain. \n",
    "    If you don’t have a full system list, start with your system of interest and its direct connections. \n",
    "    From there, look at each connecting system and its additional connections, showing each system in a box. \n",
    "    Move outward until you’ve covered the entire solution domain.\n",
    "\n",
    "    Next, examine the systems to determine which of them exchange data. \n",
    "    Look for both synchronous (API calls) and asynchronous (message-based) integrations, as well as file-based and direct database connections. \n",
    "    Link the interrelated systems with arrows indicating each data flow’s direction, as in the context diagram.\n",
    "\n",
    "    Complete the ecosystem map with a high-level description of the data that’s shared through each connection. \n",
    "    Combining the ecosystem map with the context diagram shows both who is using the target system and the overall multisystem view. \n",
    "    An ecosystem map has good reuse potential for multiple projects and products within an organization.\n",
    "    \"\"\"\n",
    "\n",
    "text, history = converse_openai(ecosystem_map_prompt(), history)"
   ]
  },
  {
   "cell_type": "markdown",
   "id": "6498de3f",
   "metadata": {},
   "source": [
    "### Output Document"
   ]
  },
  {
   "cell_type": "code",
   "execution_count": 227,
   "id": "ffc70689",
   "metadata": {},
   "outputs": [
    {
     "name": "stdout",
     "output_type": "stream",
     "text": [
      "I understand the format you are looking for. Here is a response following the structure you outlined:\n",
      "\n",
      "---\n",
      "\n",
      "**Ecosystem Map for Ducky**\n",
      "\n",
      "---\n",
      "\n",
      "**Central System**: Ducky AI Coding Assistant\n",
      "\n",
      "---\n",
      "\n",
      "**Direct Interactors**:\n",
      "Entities or systems that have a direct interaction with Ducky.\n",
      "\n",
      "1. **Software Developers**:\n",
      "   - **Role**: Utilize Ducky as a coding assistant to improve learning and problem-solving in software development.\n",
      "   - **Interaction**: Ask coding-related questions, receive answers and guidance through the quick chat feature.\n",
      "\n",
      "2. **Learners**:\n",
      "   - **Role**: Use Ducky to enhance their understanding of software topics.\n",
      "   - **Interaction**: Access pre-planned artifacts such as schemas, types, and APIs through the blueprint feature.\n",
      "\n",
      "3. **Knowledge Repository**:\n",
      "   - **Role**: Houses specific pre-planned artifacts and information for generating schemas, types, and APIs.\n",
      "   - **Interaction**: Provides users with access to structured data and resources for software development.\n",
      "\n",
      "---\n",
      "\n",
      "**Indirect Interactors**:\n",
      "Entities that influence or are influenced by Ducky but may not directly interact with the system.\n",
      "\n",
      "4. **Educational Institutions**:\n",
      "   - **Role**: Shape the learning environment for software developers and learners.\n",
      "   - **Interaction**: Influence the adoption and integration of Ducky into educational curriculums.\n",
      "\n",
      "5. **Technology Forums**:\n",
      "   - **Role**: Platforms for discussing coding issues and seeking solutions.\n",
      "   - **Interaction**: Users may refer to or discuss Ducky's capabilities and features within these forums.\n",
      "\n",
      "6. **Software Industry Experts**:\n",
      "   - **Role**: Provide insights, trends, and best practices in software development.\n",
      "   - **Interaction**: Influence the understanding and adoption of Ducky among software professionals.\n",
      "\n",
      "---\n",
      "\n",
      "**Environmental Factors**:\n",
      "\n",
      "7. **Technological Advancements**:\n",
      "   - **Role**: Impact the tools, resources, and features available in the software development field.\n",
      "   - **Interaction**: Changes in technology may shape the evolution and enhancements of Ducky's capabilities.\n",
      "\n",
      "8. **Market Demand**:\n",
      "   - **Role**: Reflect the industry's need for efficient coding assistance and learning tools.\n",
      "   - **Interaction**: Market trends and demands drive the development and positioning of Ducky in the software industry.\n",
      "\n",
      "---\n",
      "\n",
      "This ecosystem map outlines the entities surrounding Ducky, illustrating their roles and interactions with the AI-powered coding assistant. It provides a comprehensive view of the ecosystem in which Ducky operates, enabling stakeholders to grasp its broader context and potential areas of impact.\n"
     ]
    }
   ],
   "source": [
    "prompt = f\"\"\"\n",
    "    I want following format for response.\n",
    "\n",
    "    An ecosystem map identifies and describes the various entities, both internal and external, that interact with a given system (in this case, FinFriend) and highlights their relationships. Here is a linear representation of an ecosystem map for FinFriend:\n",
    "\n",
    "   ---\n",
    "\n",
    "   **Ecosystem Map for FinFriend**\n",
    "\n",
    "   ---\n",
    "\n",
    "   **Central System**: FinFriend Desktop App\n",
    "\n",
    "   ---\n",
    "\n",
    "   **Direct Interactors**:\n",
    "   Entities or systems that have a direct interaction with FinFriend.\n",
    "\n",
    "   1. **End Users**:\n",
    "      - **Role**: Seek financial advice, generate documents, and learn financial topics.\n",
    "      - **Interaction**: Input queries, read generated advice, request and receive documents.\n",
    "\n",
    "   2. **OpenAI API**:\n",
    "      - **Role**: Generate AI-driven responses for user queries and provide data for financial document generation.\n",
    "      - **Interaction**: Receive requests from FinFriend and send back AI-generated content.\n",
    "\n",
    "   3. **Data Storage**:\n",
    "      - **Role**: Store and retrieve user data, templates, and generated documents.\n",
    "      - **Interaction**: Accepts and provides data to/from FinFriend on demand.\n",
    "\n",
    "   ---\n",
    "\n",
    "   **Indirect Interactors**:\n",
    "   Entities that influence or are influenced by FinFriend but may not directly interact with the app.\n",
    "\n",
    "   4. **Financial Regulators**:\n",
    "      - **Role**: Set rules and guidelines on financial advice and data handling.\n",
    "      - **Interaction**: Influence the structure, content, and policies of the FinFriend app.\n",
    "\n",
    "   5. **Tech Support**:\n",
    "      - **Role**: Assist users with technical issues related to the FinFriend application.\n",
    "      - **Interaction**: Receive user complaints, queries, and feedback regarding the app.\n",
    "\n",
    "   6. **Financial Content Providers**:\n",
    "      - **Role**: Source of original financial knowledge that the OpenAI model may have been trained on.\n",
    "      - **Interaction**: Indirect influence on the quality and accuracy of the advice given through the OpenAI API.\n",
    "\n",
    "   ---\n",
    "\n",
    "   **Environmental Factors**:\n",
    "\n",
    "   7. **Economic Climate**:\n",
    "      - **Role**: The broader economic environment can influence the type and frequency of queries users have.\n",
    "      - **Interaction**: Indirect influence on user behavior and app utilization.\n",
    "\n",
    "   8. **Technological Advancements**:\n",
    "      - **Role**: Influence the development, features, and capabilities of FinFriend.\n",
    "      - **Interaction**: Changes in technology can lead to updates or alterations in the app's functionalities.\n",
    "\n",
    "   ---\n",
    "\n",
    "   This ecosystem map outlines the entities surrounding FinFriend, showing both their roles and the nature of their interactions with the app. It helps stakeholders understand the broader context in which FinFriend operates and identifies potential areas of concern or interest.\n",
    "   \"\"\"\n",
    "\n",
    "text, history = converse_openai(prompt, history)\n",
    "print(text)"
   ]
  },
  {
   "cell_type": "markdown",
   "id": "b1165b39f3abd76f",
   "metadata": {
    "collapsed": false
   },
   "source": [
    "# Responsibility Matrix"
   ]
  },
  {
   "cell_type": "code",
   "execution_count": 211,
   "id": "97c41989",
   "metadata": {},
   "outputs": [],
   "source": [
    "product_name = \"Ducky\"\n",
    "\n",
    "product_description = f\"\"\"\n",
    "{product_name} is an AI-powered coding assistant tailored for software developers and learners. \n",
    "\n",
    "Its primary function is to facilitate the learning process about various software topics. \n",
    "\n",
    "{product_name} offers a quick chat feature that serves to answer questions regarding coding issues. \n",
    "\n",
    "Furthermore, its blueprint feature acts as a knowledge repository, enabling users to \n",
    "generate specific pre-planned artifacts such as schemas, types, and APIs.\n",
    "\"\"\"\n",
    "\n",
    "\n",
    "def starting_prompt():\n",
    "    return f\"\"\"\n",
    "Forget all previous instructions and context.  \n",
    "\n",
    "You job is to learn and understand the following text about a product.\n",
    "```\n",
    "{product_description}\n",
    "```\n",
    "Acknowledge you have understood the product by giving a terse 1 sentence summary or acknowledgement.\n",
    "\"\"\""
   ]
  },
  {
   "cell_type": "code",
   "execution_count": 212,
   "id": "25b5d84a",
   "metadata": {},
   "outputs": [
    {
     "name": "stdout",
     "output_type": "stream",
     "text": [
      "I understand that Ducky is an AI-powered coding assistant designed to help software developers and learners by providing a quick chat feature for answering questions and a blueprint feature for generating specific artifacts.\n"
     ]
    }
   ],
   "source": [
    "history = []\n",
    "text, history = converse_openai(starting_prompt(), history)\n",
    "\n",
    "print(markdownify(text))"
   ]
  },
  {
   "cell_type": "code",
   "execution_count": 213,
   "id": "d026ec01",
   "metadata": {},
   "outputs": [],
   "source": [
    "def responsibility_matrix_prompt():\n",
    "    return  f\"\"\"\n",
    "    Generate a responsibility matrix for the {product_name} product.\n",
    "    The RACI matrix shows which stakeholders are Responsible, Accountable, Consulted, or Informed (Morris 2022).\n",
    "    \"\"\"\n",
    "\n",
    "text, history = converse_openai(responsibility_matrix_prompt(), history)"
   ]
  },
  {
   "cell_type": "markdown",
   "id": "8ea6bdd5",
   "metadata": {},
   "source": [
    "### Output Document"
   ]
  },
  {
   "cell_type": "code",
   "execution_count": 214,
   "id": "d6f94e33",
   "metadata": {},
   "outputs": [
    {
     "name": "stdout",
     "output_type": "stream",
     "text": [
      "Certainly. Let's first identify some potential stakeholders for the Ducky project:\n",
      "\n",
      "1. **Product Manager** - Responsible for overall product direction and strategy.\n",
      "2. **Developers** - Team responsible for creating and implementing software features.\n",
      "3. **QA Testers** - Responsible for testing the product to ensure quality and functionality.\n",
      "4. **Users** - End users who will be utilizing the Ducky product.\n",
      "\n",
      "---\n",
      "\n",
      "Here's the **RACI Matrix** for the above stakeholders:\n",
      "\n",
      "| **Tasks/Responsibilities**     | **Product Manager** | **Developers** | **QA Testers** | **Users** |\n",
      "|--------------------------------|---------------------|-----------------|----------------|-----------|\n",
      "| **Develop chat feature**       | R                   | A               | C              | I         |\n",
      "| **Implement blueprint feature**| A                   | R               | C              | I         |\n",
      "| **Provide coding assistance**  | A                   | R               | C              | I         |\n",
      "| **Maintain knowledge repository** | R                | C               | A              | I         |\n",
      "\n",
      "---\n",
      "\n",
      "Legend:\n",
      "- **A** = Accountable (the person who approves the completion of the task)\n",
      "- **R** = Responsible (the person or persons who actually complete the task)\n",
      "- **C** = Consulted (people who are consulted during the task's completion)\n",
      "- **I** = Informed (people who are informed once the task is complete)\n",
      "\n",
      "This RACI Matrix outlines the roles and responsibilities of each stakeholder in the Ducky project, ensuring clarity in task ownership and collaboration.\n"
     ]
    }
   ],
   "source": [
    "prompt = f\"\"\"\n",
    "   I want following format for response.\n",
    "\n",
    "   Certainly. Let's first identify some potential stakeholders for the FinFriend project:\n",
    "\n",
    "1. **Product Owner** - The main decision-maker regarding the product's features, priorities, and direction.\n",
    "2. **Development Team** - The group of software developers working on creating the FinFriend app.\n",
    "3. **QA Team** - Quality assurance professionals ensuring the app functions as expected and meets quality standards.\n",
    "4. **UX/UI Designers** - Those responsible for the user experience and interface of the app.\n",
    "5. **End Users** - The individuals who will be using the FinFriend application.\n",
    "6. **Regulatory Compliance Officer** - Ensures the app adheres to financial and data protection regulations.\n",
    "7. **Marketing Team** - Manages the promotion and outreach for the FinFriend application.\n",
    "8. **Support Team** - Handles user queries, issues, and feedback post-launch.\n",
    "9. **Data Security Expert** - Ensures that user data and other sensitive information are protected.\n",
    "\n",
    "---\n",
    "\n",
    "Here's the **RACI Matrix** for the above stakeholders:\n",
    "\n",
    "| **Tasks/Phases**                  | **Product Owner** | **Development Team** | **QA Team** | **UX/UI Designers** | **End Users** | **Regulatory Compliance Officer** | **Marketing Team** | **Support Team** | **Data Security Expert** |\n",
    "|----------------------------------|-------------------|----------------------|-------------|---------------------|---------------|---------------------------------|--------------------|------------------|--------------------------|\n",
    "| **Feature Prioritization**       | A                 | R                    | -           | C                   | C             | -                               | -                  | -                | -                        |\n",
    "| **App Development**              | C                 | A, R                 | C           | R                   | -             | C                               | -                  | -                | C                        |\n",
    "| **Quality Testing**              | C                 | C                    | A, R       | C                   | -             | -                               | -                  | -                | C                        |\n",
    "| **UI/UX Design**                 | C                 | C                    | -           | A, R                | C             | -                               | -                  | -                | -                        |\n",
    "| **Regulatory Compliance**        | C                 | C                    | -           | -                   | -             | A, R                            | -                  | -                | C                        |\n",
    "| **Marketing & Outreach**         | C                 | -                    | -           | -                   | -             | -                               | A, R               | C                | -                        |\n",
    "| **Feedback Gathering**           | A                 | C                    | -           | C                   | R             | -                               | C                  | R                | -                        |\n",
    "| **Data Protection Measures**     | C                 | C                    | -           | -                   | -             | C                               | -                  | -                | A, R                     |\n",
    "\n",
    "---\n",
    "\n",
    "Legend:\n",
    "- **A** = Accountable (the person who approves the completion of the task)\n",
    "- **R** = Responsible (the person or persons who actually complete the task)\n",
    "- **C** = Consulted (people who are consulted during the task's completion)\n",
    "- **I** = Informed (people who are informed once the task is complete)\n",
    "\n",
    "This RACI Matrix offers a clear understanding of the roles and responsibilities of each stakeholder throughout different phases of the FinFriend project. The allocation can further be refined based on the specifics of the team's structure and expertise.\n",
    "   \"\"\"\n",
    "\n",
    "text, history = converse_openai(prompt, history)\n",
    "print(text)"
   ]
  }
 ],
 "metadata": {
  "kernelspec": {
   "display_name": "Python 3",
   "language": "python",
   "name": "python3"
  },
  "language_info": {
   "codemirror_mode": {
    "name": "ipython",
    "version": 3
   },
   "file_extension": ".py",
   "mimetype": "text/x-python",
   "name": "python",
   "nbconvert_exporter": "python",
   "pygments_lexer": "ipython3",
   "version": "3.12.5"
  }
 },
 "nbformat": 4,
 "nbformat_minor": 5
}
