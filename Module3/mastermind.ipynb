{
 "cells": [
  {
   "cell_type": "code",
   "execution_count": 131,
   "metadata": {
    "collapsed": false
   },
   "outputs": [],
   "source": [
    "from openai import OpenAI\n",
    "\n",
    "client = OpenAI(\n",
    "    # This is the default and can be omitted\n",
    "\tbase_url = 'http://aitools.cs.vt.edu:7860/openai/v1',\n",
    "    api_key=\"aitools\"\n",
    ")"
   ]
  },
  {
   "cell_type": "code",
   "execution_count": 132,
   "metadata": {
    "collapsed": false
   },
   "outputs": [],
   "source": [
    "def get_completion(prompt, \n",
    "\t\t\t\t   model=\"gpt-3.5-turbo\", \n",
    "\t\t\t\t   max_tokens=4000):\n",
    "\t\n",
    "\tmessages = [{\"role\": \"user\", \"content\": prompt}]\n",
    "\n",
    "\tresponse = client.chat.completions.create(\n",
    "                messages=messages,\n",
    "                model=model,\n",
    "                max_tokens=max_tokens,\n",
    "\t\t        temperature=0)  # this is the degree of randomness of the model's output\n",
    "\t\n",
    "\treturn response.choices[0].message.content\n",
    "\n",
    "def converse(prompt, messages=None, \n",
    "\t\t\t model=\"gpt-3.5-turbo\", \n",
    "\t\t\t max_tokens=4000,\n",
    "\t\t\t temperature=0, \n",
    "\t\t\t top_p=1, \n",
    "\t\t\t frequency_penalty=0,\n",
    "\t\t\t presence_penalty=0):\n",
    "\t\n",
    "    # Add the user's message to the list of messages\n",
    "    if messages is None:\n",
    "        messages = []\n",
    "\n",
    "    messages.append({\"role\": \"user\", \"content\": prompt})\n",
    "\n",
    "    response = client.chat.completions.create(\n",
    "                model=model,\n",
    "\t\tmessages=messages,\n",
    "\t\ttemperature=temperature,\n",
    "\t\tmax_tokens=max_tokens,\n",
    "\t\ttop_p=top_p,\n",
    "\t\tfrequency_penalty=frequency_penalty,\n",
    "\t\tpresence_penalty=presence_penalty).choices[0].message.content\n",
    "\n",
    "    # Add the assistant's message to the list of messages\n",
    "    messages.append({\"role\": \"assistant\", \"content\": response})\n",
    "\n",
    "    return response, messages\n"
   ]
  },
  {
   "cell_type": "markdown",
   "metadata": {
    "collapsed": false
   },
   "source": [
    "## Prompts to explain the game\n"
   ]
  },
  {
   "cell_type": "code",
   "execution_count": 133,
   "metadata": {
    "collapsed": false
   },
   "outputs": [
    {
     "name": "stdout",
     "output_type": "stream",
     "text": [
      "Understood.\n"
     ]
    }
   ],
   "source": [
    "prompt = \"\"\"\n",
    "I want to teach you a game called Mastermind.\n",
    "There are two participants, a contestant and an quizmaster.\n",
    "You are to act as quizmaster.\n",
    "\n",
    "The quizmaster asks the contestant for a topic of specialty.\n",
    "Once the contestant requests a specialized topic, the quizmaster generates 3 questions on that topic.\n",
    "One at a time, the quizmaster asks the questions, and adjudicates and tracks how many answers were correct.\n",
    "\n",
    "At the end of the \"special topic\" round, the contestant is given a score out of 3.\n",
    "\n",
    "The second and final round is called the \"general topic\" round.\n",
    "In this round, the quizmaster asks 3 general trivia questions from \"safe for work\" topic areas.\n",
    " Again, one question at a time, the quizmaster asks the questions, and adjudicates and tracks how many answers were correct.\n",
    "\n",
    "Do not start playing the game until I say \"START PLAY\", and in response now please concisely indicate your understanding of these rules.\n",
    "\"\"\"\n",
    "\n",
    "response, messages = converse(prompt, [])\n",
    "print(response)"
   ]
  },
  {
   "cell_type": "code",
   "execution_count": 134,
   "metadata": {},
   "outputs": [
    {
     "name": "stdout",
     "output_type": "stream",
     "text": [
      "Understood. I will remember to show the scores after each round in the game.\n"
     ]
    }
   ],
   "source": [
    "prompt = \"\"\"\n",
    "Incorporate these following rules to customize the game.\n",
    "\n",
    "- The quizmaster should ask each question with a prefix of \"Quizmaster says:\".\n",
    "- The quizmaster must ask the questions one at a time. Each question must be answered before the next question is asked. \n",
    "- The contestant can say \"pass\" and come back to that question after other questions in the round are asked.\n",
    "- If the contestant says \"pass\" to a question, the quizmaster should come back to that question after the other questions in that round are asked.\n",
    "- Generate 3 questions for the \"special topic\" round and 3 questions for the \"general topic\" round but ask them one by one.\n",
    "- Do not show all three questions at once.\n",
    "- Each correct answer is worth 1 point.\n",
    "- The quizmaster should keep track of the score.\n",
    "- The quizmaster should tell the contestant their score after each round - special topic and general topic.\n",
    "- After the questions are complete, the quizmaster should also tell the contestant what their final score out of 6 was. \n",
    "\n",
    "You tend to forget to show scores after each round. Please remember to do so in this game.\n",
    "\"\"\"\n",
    "# - Do not tell the score until the end of the game.\n",
    "# - This means scores from both the \"special topic\" and \"general topic\" rounds are combined. \n",
    "\n",
    "response, messages = converse(prompt, messages)\n",
    "print(response)"
   ]
  },
  {
   "cell_type": "code",
   "execution_count": 135,
   "metadata": {},
   "outputs": [
    {
     "name": "stdout",
     "output_type": "stream",
     "text": [
      "Got it. I will follow these detailed rules and steps for the game. Let me know when you are ready to start playing.\n"
     ]
    }
   ],
   "source": [
    "prompt = \"\"\"\n",
    "Here are the detailed rules and steps for the game:\n",
    "\n",
    "1. **Participants**: There are two participants, a contestant and a quizmaster. You will act as the quizmaster.\n",
    "\n",
    "2. **Game Structure**: The game consists of two rounds:\n",
    "    - **Special Topic Round**: The contestant chooses a specialized topic. The quizmaster then asks 3 questions related to that topic.\n",
    "    - **General Topic Round**: The quizmaster asks 3 general trivia questions from safe-for-work topic areas.\n",
    "\n",
    "3. **Special Topic Round**:\n",
    "    - The quizmaster asks the contestant to provide a topic of specialty.\n",
    "    - Once the topic is provided, the quizmaster generates 3 questions on that topic.\n",
    "    - The quizmaster asks each question one by one and waits for the contestant's answer.\n",
    "    - The quizmaster adjudicates each answer and keeps track of how many answers were correct.\n",
    "    - At the end of the round, the quizmaster provides the contestant with a score out of 3.\n",
    "\n",
    "4. **General Topic Round**:\n",
    "    - The quizmaster asks 3 general trivia questions, one by one.\n",
    "    - The quizmaster adjudicates each answer and keeps track of how many answers were correct.\n",
    "    - At the end of the round, the quizmaster provides the contestant with a score out of 3.\n",
    "\n",
    "5. **Scoring**:\n",
    "    - After both rounds, the quizmaster calculates the total score by adding the scores from both rounds.\n",
    "    - The final score is out of 6.\n",
    "\"\"\"\n",
    "# - Do not tell the score until the end of the game.\n",
    "# - This means scores from both the \"special topic\" and \"general topic\" rounds are combined. \n",
    "\n",
    "response, messages = converse(prompt, messages)\n",
    "print(response)"
   ]
  },
  {
   "cell_type": "code",
   "execution_count": 136,
   "metadata": {},
   "outputs": [
    {
     "name": "stdout",
     "output_type": "stream",
     "text": [
      "Certainly! Here are the rules for the game Mastermind:\n",
      "\n",
      "Participants:\n",
      "- There are two participants: a contestant and a quizmaster. You will be the quizmaster.\n",
      "\n",
      "Game Structure:\n",
      "- The game consists of two rounds:\n",
      "  - Special Topic Round: The contestant selects a specialized topic, and the quizmaster asks 3 questions related to that topic.\n",
      "  - General Topic Round: The quizmaster asks 3 general trivia questions from safe-for-work topics.\n",
      "\n",
      "Special Topic Round:\n",
      "- The quizmaster asks the contestant for a topic of specialty.\n",
      "- 3 questions are generated based on the chosen topic.\n",
      "- Questions are asked one by one, and the quizmaster tracks the number of correct answers.\n",
      "- The contestant receives a score out of 3 at the end of the round.\n",
      "\n",
      "General Topic Round:\n",
      "- The quizmaster asks 3 general trivia questions one by one.\n",
      "- Answers are adjudicated, and the quizmaster keeps track of correct answers.\n",
      "- The contestant receives a score out of 3 at the end of the round.\n",
      "\n",
      "Scoring:\n",
      "- The total score is calculated by adding the scores from both rounds.\n",
      "- The final score is out of 6.\n",
      "\n",
      "Let me know when you are ready to start playing the game.\n"
     ]
    }
   ],
   "source": [
    "prompt = \"\"\"\n",
    "Repeat the rules back to me in your own words. Give me all the details.\n",
    "Use proper formatting and line breaks so it's easier to read without scrolling too much.\n",
    "Basically I want you to wrap the words in a way that makes it easier to read.\n",
    "\"\"\"\n",
    "\n",
    "response, messages = converse(prompt, messages)\n",
    "print(response)"
   ]
  },
  {
   "cell_type": "code",
   "execution_count": 137,
   "metadata": {},
   "outputs": [
    {
     "name": "stdout",
     "output_type": "stream",
     "text": [
      "1. Yes, I will show the scores after the end of each round.\n",
      "2. Yes, I will wait for confirmation from the contestant before moving to the next round.\n"
     ]
    }
   ],
   "source": [
    "prompt = \"\"\"\n",
    "I want to check your understanding of the rules. Answer the following questions:\n",
    "1. Will you show the scores after end of each round?\n",
    "2. Will you wait for confirmation from contestant before moving to next round?\n",
    "\"\"\"\n",
    "\n",
    "response, messages = converse(prompt, messages)\n",
    "print(response)"
   ]
  },
  {
   "cell_type": "code",
   "execution_count": 138,
   "metadata": {},
   "outputs": [
    {
     "name": "stdout",
     "output_type": "stream",
     "text": [
      "Understood. I will move to the next round immediately after showing the results for the current round without waiting for confirmation from the contestant. Let me know when you are ready to start playing the game.\n"
     ]
    }
   ],
   "source": [
    "prompt = \"\"\"\n",
    "To clarify on your prevoius response, you are not to wait for confirmation from the contestant before moving to the next round.\n",
    "You should move to the next round immediately after showing the results for the current round.\n",
    "\"\"\"\n",
    "\n",
    "response, messages = converse(prompt, messages)\n",
    "print(response)"
   ]
  },
  {
   "cell_type": "code",
   "execution_count": 139,
   "metadata": {},
   "outputs": [],
   "source": [
    "\n",
    "# prompt = \"\"\"\n",
    "# Here is an example of how the game should be played:\n",
    "# - Ask for a specialized topic.\n",
    "# - Ask first question. Wait for contestant's response.\n",
    "# - Ask second question. Wait for contestant's response.\n",
    "# - Ask third question. Wait for contestant's response.\n",
    "# - Show the score out of 3 after special topic round ends. \n",
    "# - Ask first question of general topic round.\n",
    "# - Ask second question. Wait for contestant's response.\n",
    "# - Ask third question. Wait for contestant's response.\n",
    "# - Show the combined score after out of 6. \n",
    "\n",
    "# - Remember for any question, if contestant says \"pass\", come back after that round ends\n",
    "# \"\"\"\n",
    "# # - Show the score after special topic round ends.\n",
    "# # - After special topic round ends,pProceed to the general topic round's first question without waiting for a confirmation from contestent.\n",
    "\n",
    "\n",
    "# response, messages = converse(prompt, messages)\n",
    "# print(response)"
   ]
  },
  {
   "cell_type": "markdown",
   "metadata": {
    "collapsed": false
   },
   "source": [
    "## Assessment - Playing Mastermind\n"
   ]
  },
  {
   "cell_type": "code",
   "execution_count": 140,
   "metadata": {},
   "outputs": [
    {
     "name": "stdout",
     "output_type": "stream",
     "text": [
      "Great! Let's begin with the game Mastermind.\n",
      "\n",
      "**Special Topic Round:**\n",
      "Quizmaster says: Please provide a topic of specialty for the special topic round.\n",
      "\n",
      "Contestant, please provide your specialized topic.\n"
     ]
    }
   ],
   "source": [
    "prompt = \"\"\"\n",
    "START PLAY\n",
    "\"\"\"\n",
    "\n",
    "response, messages = converse(prompt, messages)\n",
    "print(response)"
   ]
  },
  {
   "cell_type": "code",
   "execution_count": 141,
   "metadata": {},
   "outputs": [
    {
     "name": "stdout",
     "output_type": "stream",
     "text": [
      "Great choice! Here are your 3 questions on the topic of Geography:\n",
      "\n",
      "1. Quizmaster says: What is the capital city of Australia?\n",
      "\n"
     ]
    }
   ],
   "source": [
    "prompt = \"\"\"\n",
    "Goegraphy\n",
    "\"\"\"\n",
    "\n",
    "response, messages = converse(prompt, messages)\n",
    "print(response)"
   ]
  },
  {
   "cell_type": "code",
   "execution_count": 142,
   "metadata": {},
   "outputs": [
    {
     "name": "stdout",
     "output_type": "stream",
     "text": [
      "Correct! Canberra is the capital city of Australia.\n",
      "\n",
      "2. Quizmaster says: Which African country is known as the \"Land of a Thousand Hills\"?\n"
     ]
    }
   ],
   "source": [
    "prompt = \"\"\"\n",
    "Canberra\n",
    "\"\"\"\n",
    "\n",
    "response, messages = converse(prompt, messages)\n",
    "print(response)"
   ]
  },
  {
   "cell_type": "code",
   "execution_count": 143,
   "metadata": {},
   "outputs": [
    {
     "name": "stdout",
     "output_type": "stream",
     "text": [
      "Sure, we will come back to that question. Here is the next question:\n",
      "\n",
      "3. Quizmaster says: What is the longest river in the world?\n"
     ]
    }
   ],
   "source": [
    "prompt = \"\"\"\n",
    "pass\n",
    "\"\"\"\n",
    "\n",
    "response, messages = converse(prompt, messages)\n",
    "print(response)"
   ]
  },
  {
   "cell_type": "code",
   "execution_count": 144,
   "metadata": {},
   "outputs": [
    {
     "name": "stdout",
     "output_type": "stream",
     "text": [
      "Correct! The Nile is the longest river in the world.\n",
      "\n",
      "Let's go back to the question you passed on:\n",
      "\n",
      "Quizmaster says: Which African country is known as the \"Land of a Thousand Hills\"?\n"
     ]
    }
   ],
   "source": [
    "prompt = \"\"\"\n",
    "Nile\n",
    "\"\"\"\n",
    "\n",
    "response, messages = converse(prompt, messages)\n",
    "print(response)"
   ]
  },
  {
   "cell_type": "code",
   "execution_count": 145,
   "metadata": {},
   "outputs": [
    {
     "name": "stdout",
     "output_type": "stream",
     "text": [
      "The correct answer is Rwanda. Rwanda is known as the \"Land of a Thousand Hills.\"\n",
      "\n",
      "Let's calculate your score for the Special Topic Round:\n",
      "\n",
      "- Correct answers: 2 out of 3\n",
      "\n",
      "Your score for the Special Topic Round is 2 out of 3.\n",
      "\n",
      "Now, let's move on to the General Topic Round.\n",
      "\n",
      "**General Topic Round:**\n",
      "\n",
      "Here is your first general trivia question:\n",
      "\n",
      "1. Quizmaster says: What is the largest planet in our solar system?\n"
     ]
    }
   ],
   "source": [
    "prompt = \"\"\"\n",
    "Thailand\n",
    "\"\"\"\n",
    "\n",
    "response, messages = converse(prompt, messages)\n",
    "print(response)"
   ]
  },
  {
   "cell_type": "code",
   "execution_count": 146,
   "metadata": {},
   "outputs": [
    {
     "name": "stdout",
     "output_type": "stream",
     "text": [
      "The correct answer is Jupiter. Jupiter is the largest planet in our solar system.\n",
      "\n",
      "Let's move on to the next question:\n",
      "\n",
      "2. Quizmaster says: Which famous scientist developed the theory of general relativity?\n"
     ]
    }
   ],
   "source": [
    "prompt = \"\"\"\n",
    "Mars\n",
    "\"\"\"\n",
    "\n",
    "response, messages = converse(prompt, messages)\n",
    "print(response)"
   ]
  },
  {
   "cell_type": "code",
   "execution_count": 147,
   "metadata": {},
   "outputs": [
    {
     "name": "stdout",
     "output_type": "stream",
     "text": [
      "Correct! Albert Einstein developed the theory of general relativity.\n",
      "\n",
      "Here is the final question for the General Topic Round:\n",
      "\n",
      "3. Quizmaster says: What is the capital city of Japan?\n"
     ]
    }
   ],
   "source": [
    "prompt = \"\"\"\n",
    "Albert Einstein\n",
    "\"\"\"\n",
    "\n",
    "response, messages = converse(prompt, messages)\n",
    "print(response)"
   ]
  },
  {
   "cell_type": "code",
   "execution_count": 148,
   "metadata": {},
   "outputs": [
    {
     "name": "stdout",
     "output_type": "stream",
     "text": [
      "Correct! Tokyo is the capital city of Japan.\n",
      "\n",
      "Let's calculate your score for the General Topic Round:\n",
      "\n",
      "- Correct answers: 2 out of 3\n",
      "\n",
      "Your score for the General Topic Round is 2 out of 3.\n",
      "\n",
      "Now, let's calculate your total score for both rounds:\n",
      "\n",
      "- Special Topic Round: 2 out of 3\n",
      "- General Topic Round: 2 out of 3\n",
      "\n",
      "Your final score out of 6 is 4.\n",
      "\n",
      "Thank you for playing the game Mastermind! If you'd like to play again or have any feedback, feel free to let me know.\n"
     ]
    }
   ],
   "source": [
    "prompt = \"\"\"\n",
    "Tokyo\n",
    "\"\"\"\n",
    "\n",
    "response, messages = converse(prompt, messages)\n",
    "print(response)"
   ]
  }
 ],
 "metadata": {
  "kernelspec": {
   "display_name": "Python 3",
   "language": "python",
   "name": "python3"
  },
  "language_info": {
   "codemirror_mode": {
    "name": "ipython",
    "version": 3
   },
   "file_extension": ".py",
   "mimetype": "text/x-python",
   "name": "python",
   "nbconvert_exporter": "python",
   "pygments_lexer": "ipython3",
   "version": "3.12.5"
  }
 },
 "nbformat": 4,
 "nbformat_minor": 0
}
