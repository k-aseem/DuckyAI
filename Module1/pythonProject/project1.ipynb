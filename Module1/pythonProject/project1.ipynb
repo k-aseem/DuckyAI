{
 "cells": [
  {
   "cell_type": "markdown",
   "source": [
    "# Project 1: Learning Python\n",
    "\n",
    "For this assignment, let's work with ChatGPT to create and refine a python method.\n",
    "\n",
    "You will submit this assignment by downloading this notebook to Visual Code or PyCharm,\n",
    "running the cells, and then uploading it to Canvas.\n",
    "\n",
    "To download the project notebook: \n",
    "* use File | Download in this notebook menubar (above) and choose Notebook format (.ipynb).\n",
    "\n",
    "To run the project notebook:\n",
    "* load the notebook into Visual Code or PyCharm\n",
    "* install the OpenAI python package: \n",
    "  * create a requirements.txt file with the line ```openai==1.42.0```, and use PyCharm or VS Code to install the openapi package. \n",
    "* run the first two cells to establish your OpenAI connection\n",
    "* run the remaining cells to interact with ChatGPT\n",
    "\n",
    "To save the project notebook:\n",
    "* Save the notebook using PyCharm or Visual Studio code.\n",
    "* Test that the file contains the output code by closing and re-opening the file in PyCharm or Visual Studio code.\n",
    "* \n",
    "\n",
    "To upload the project notebook:\n",
    "* Open the Canvas Project page\n",
    "* Upload your file and click on the Submit Assignment button.\n"
   ],
   "metadata": {
    "collapsed": false
   },
   "id": "efca965bb19b3145"
  },
  {
   "cell_type": "code",
   "source": [
    "from openai import OpenAI\n",
    "\n",
    "client = OpenAI(\n",
    "    # This is the default and can be omitted\n",
    "\tbase_url = 'http://aitools.cs.vt.edu:7860/openai/v1',\n",
    "    api_key=\"aitools\"\n",
    ")\n"
   ],
   "metadata": {
    "collapsed": false,
    "ExecuteTime": {
     "end_time": "2024-09-01T23:41:54.127994Z",
     "start_time": "2024-09-01T23:41:53.782211Z"
    }
   },
   "id": "2d042e0111608da7",
   "outputs": [],
   "execution_count": 1
  },
  {
   "cell_type": "code",
   "source": [
    "def converse(prompt, messages=None, model=\"gpt-3.5-turbo\", max_tokens=500):\n",
    "    # Add the user's message to the list of messages\n",
    "    if messages is None:\n",
    "        messages = []\n",
    "\n",
    "    messages.append({\"role\": \"user\", \"content\": prompt})\n",
    "\n",
    "    response = client.chat.completions.create(\n",
    "                messages=messages,\n",
    "                model=model,\n",
    "                max_tokens=max_tokens).choices[0].message.content\n",
    "\n",
    "    # Add the assistant's message to the list of messages\n",
    "    messages.append({\"role\": \"assistant\", \"content\": response})\n",
    "\n",
    "    return response, messages"
   ],
   "metadata": {
    "collapsed": false,
    "ExecuteTime": {
     "end_time": "2024-09-01T23:41:54.177125Z",
     "start_time": "2024-09-01T23:41:54.173377Z"
    }
   },
   "id": "d5da2bf4d57275ec",
   "outputs": [],
   "execution_count": 2
  },
  {
   "cell_type": "code",
   "source": [
    "messages = []\n",
    "prompt=f\"\"\"\n",
    "Write me a python program that takes an integer as input, \n",
    "representing a balance to make change for.  The purpose of \n",
    "the program is to work out how many 100, 50, 20, 10, 5 and 1 \n",
    "dollar notes are required to add up to the provided total.  \n",
    "Do NOT use iteration in your solution.\n",
    "\"\"\"\n",
    "response, messages = converse(prompt, messages)\n",
    "print(f\"You: {prompt}\\nChatGPT: {response}\")\n",
    "\n"
   ],
   "metadata": {
    "collapsed": false,
    "ExecuteTime": {
     "end_time": "2024-09-01T23:41:57.769576Z",
     "start_time": "2024-09-01T23:41:54.264535Z"
    }
   },
   "id": "initial_id",
   "outputs": [
    {
     "name": "stdout",
     "output_type": "stream",
     "text": [
      "You: \n",
      "Write me a python program that takes an integer as input, \n",
      "representing a balance to make change for.  The purpose of \n",
      "the program is to work out how many 100, 50, 20, 10, 5 and 1 \n",
      "dollar notes are required to add up to the provided total.  \n",
      "Do NOT use iteration in your solution.\n",
      "\n",
      "ChatGPT: Sure! Here's a Python program that solves the problem without using iteration:\n",
      "\n",
      "```python\n",
      "def make_change(balance):\n",
      "    hundreds = balance // 100\n",
      "    balance %= 100\n",
      "    fifties = balance // 50\n",
      "    balance %= 50\n",
      "    twenties = balance // 20\n",
      "    balance %= 20\n",
      "    tens = balance // 10\n",
      "    balance %= 10\n",
      "    fives = balance // 5\n",
      "    balance %= 5\n",
      "    ones = balance\n",
      "\n",
      "    return hundreds, fifties, twenties, tens, fives, ones\n",
      "\n",
      "# Taking input from the user\n",
      "balance = int(input(\"Enter the balance to make change for: \"))\n",
      "\n",
      "# Calling the function and storing the result\n",
      "hundreds, fifties, twenties, tens, fives, ones = make_change(balance)\n",
      "\n",
      "# Outputting the result\n",
      "print(\"100 Dollar notes:\", hundreds)\n",
      "print(\"50 Dollar notes:\", fifties)\n",
      "print(\"20 Dollar notes:\", twenties)\n",
      "print(\"10 Dollar notes:\", tens)\n",
      "print(\"5 Dollar notes:\", fives)\n",
      "print(\"1 Dollar notes:\", ones)\n",
      "```\n",
      "\n",
      "Now you can run this program, enter a balance, and it will calculate the number of each denomination of notes needed to make that change.\n"
     ]
    }
   ],
   "execution_count": 3
  },
  {
   "cell_type": "code",
   "source": [
    "prompt=\"Make that problem harder requiring iteration in the program.\"\n",
    "response, messages = converse(prompt, messages)\n",
    "print(f\"You: {prompt}\\nChatGPT: {response}\")\n"
   ],
   "metadata": {
    "collapsed": false,
    "ExecuteTime": {
     "end_time": "2024-09-01T23:42:00.345476Z",
     "start_time": "2024-09-01T23:41:57.991072Z"
    }
   },
   "id": "2c0ebccc466605ea",
   "outputs": [
    {
     "name": "stdout",
     "output_type": "stream",
     "text": [
      "You: Make that problem harder requiring iteration in the program.\n",
      "ChatGPT: Sure! Here's a Python program that solves the problem by using iteration:\n",
      "\n",
      "```python\n",
      "def make_change(balance):\n",
      "    denominations = [100, 50, 20, 10, 5, 1]\n",
      "    notes = []\n",
      "\n",
      "    for denom in denominations:\n",
      "        notes.append(balance // denom)\n",
      "        balance %= denom\n",
      "\n",
      "    return notes\n",
      "\n",
      "# Taking input from the user\n",
      "balance = int(input(\"Enter the balance to make change for: \"))\n",
      "\n",
      "# Calling the function and storing the result\n",
      "notes = make_change(balance)\n",
      "\n",
      "# Outputting the result\n",
      "denominations = [100, 50, 20, 10, 5, 1]\n",
      "for i in range(len(denominations)):\n",
      "    print(f\"{denominations[i]} Dollar notes:\", notes[i])\n",
      "```\n",
      "\n",
      "This program uses iteration to calculate the number of each denomination of notes needed to make change for a given balance. Let me know if you have any questions or need further clarification.\n"
     ]
    }
   ],
   "execution_count": 4
  },
  {
   "cell_type": "code",
   "source": [],
   "metadata": {
    "collapsed": false,
    "ExecuteTime": {
     "end_time": "2024-09-01T23:42:00.396893Z",
     "start_time": "2024-09-01T23:42:00.393049Z"
    }
   },
   "id": "35f341870063b4b4",
   "outputs": [],
   "execution_count": null
  }
 ],
 "metadata": {
  "kernelspec": {
   "display_name": "Python 3",
   "language": "python",
   "name": "python3"
  },
  "language_info": {
   "codemirror_mode": {
    "name": "ipython",
    "version": 2
   },
   "file_extension": ".py",
   "mimetype": "text/x-python",
   "name": "python",
   "nbconvert_exporter": "python",
   "pygments_lexer": "ipython2",
   "version": "2.7.6"
  }
 },
 "nbformat": 4,
 "nbformat_minor": 5
}
